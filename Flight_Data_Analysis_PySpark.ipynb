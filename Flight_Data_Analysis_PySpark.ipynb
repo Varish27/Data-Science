{
 "cells": [
  {
   "cell_type": "code",
   "execution_count": 1,
   "id": "fabc802b",
   "metadata": {},
   "outputs": [],
   "source": [
    "import pyspark\n",
    "from pyspark.sql import SparkSession\n",
    "from pyspark.sql.functions import *\n",
    "spark = SparkSession.builder.appName(\"FlightdelayAnalysis\").getOrCreate()\n",
    "\n",
    "# Importing the Data from to SPARK Data Frames\n",
    "df_fl = spark.read.option(\"header\", \"true\").csv(\"flights.csv\")\n",
    "df_ap = spark.read.option(\"header\", \"true\").csv(\"airports.csv\")\n",
    "df_al = spark.read.option(\"header\", \"true\").csv(\"airlines.csv\")\n"
   ]
  },
  {
   "cell_type": "code",
   "execution_count": 2,
   "id": "65cc7e85",
   "metadata": {},
   "outputs": [],
   "source": [
    "# Removing unused/Not required columns from Flights dataset.\n",
    "\n",
    "cols_to_drop = ['TAXI_OUT', 'WHEELS_OFF','WHEELS_ON','TAXI_IN']\n",
    "df_fl = df_fl.drop(*cols_to_drop)\n"
   ]
  },
  {
   "cell_type": "code",
   "execution_count": 3,
   "id": "a13cc3a0",
   "metadata": {},
   "outputs": [
    {
     "name": "stdout",
     "output_type": "stream",
     "text": [
      "root\n",
      " |-- YEAR: string (nullable = true)\n",
      " |-- MONTH: string (nullable = true)\n",
      " |-- DAY: string (nullable = true)\n",
      " |-- DAY_OF_WEEK: string (nullable = true)\n",
      " |-- AIRLINE: string (nullable = true)\n",
      " |-- FLIGHT_NUMBER: string (nullable = true)\n",
      " |-- TAIL_NUMBER: string (nullable = true)\n",
      " |-- ORIGIN_AIRPORT: string (nullable = true)\n",
      " |-- DESTINATION_AIRPORT: string (nullable = true)\n",
      " |-- SCHEDULED_DEPARTURE: string (nullable = true)\n",
      " |-- DEPARTURE_TIME: string (nullable = true)\n",
      " |-- DEPARTURE_DELAY: string (nullable = true)\n",
      " |-- SCHEDULED_TIME: string (nullable = true)\n",
      " |-- ELAPSED_TIME: string (nullable = true)\n",
      " |-- AIR_TIME: string (nullable = true)\n",
      " |-- DISTANCE: string (nullable = true)\n",
      " |-- SCHEDULED_ARRIVAL: string (nullable = true)\n",
      " |-- ARRIVAL_TIME: string (nullable = true)\n",
      " |-- ARRIVAL_DELAY: string (nullable = true)\n",
      " |-- DIVERTED: string (nullable = true)\n",
      " |-- CANCELLED: string (nullable = true)\n",
      " |-- CANCELLATION_REASON: string (nullable = true)\n",
      " |-- AIR_SYSTEM_DELAY: string (nullable = true)\n",
      " |-- SECURITY_DELAY: string (nullable = true)\n",
      " |-- AIRLINE_DELAY: string (nullable = true)\n",
      " |-- LATE_AIRCRAFT_DELAY: string (nullable = true)\n",
      " |-- WEATHER_DELAY: string (nullable = true)\n",
      "\n",
      "root\n",
      " |-- IATA_CODE: string (nullable = true)\n",
      " |-- AIRPORT: string (nullable = true)\n",
      " |-- CITY: string (nullable = true)\n",
      " |-- STATE: string (nullable = true)\n",
      " |-- COUNTRY: string (nullable = true)\n",
      " |-- LATITUDE: string (nullable = true)\n",
      " |-- LONGITUDE: string (nullable = true)\n",
      "\n",
      "root\n",
      " |-- IATA_CODE: string (nullable = true)\n",
      " |-- AIRLINE: string (nullable = true)\n",
      "\n"
     ]
    }
   ],
   "source": [
    "# Showing Schenmas for all Datasets \n",
    "\n",
    "df_fl.printSchema()\n",
    "df_ap.printSchema()\n",
    "df_al.printSchema()\n"
   ]
  },
  {
   "cell_type": "code",
   "execution_count": 4,
   "id": "0449e6fb",
   "metadata": {},
   "outputs": [
    {
     "name": "stdout",
     "output_type": "stream",
     "text": [
      "root\n",
      " |-- YEAR: string (nullable = true)\n",
      " |-- MONTH: string (nullable = true)\n",
      " |-- DAY: string (nullable = true)\n",
      " |-- DAY_OF_WEEK: string (nullable = true)\n",
      " |-- AIRLINE: string (nullable = true)\n",
      " |-- FLIGHT_NUMBER: string (nullable = true)\n",
      " |-- TAIL_NUMBER: string (nullable = true)\n",
      " |-- ORIGIN_AIRPORT: string (nullable = true)\n",
      " |-- DESTINATION_AIRPORT: string (nullable = true)\n",
      " |-- SCHEDULED_DEPARTURE: string (nullable = true)\n",
      " |-- DEPARTURE_TIME: string (nullable = true)\n",
      " |-- DEPARTURE_DELAY: string (nullable = true)\n",
      " |-- SCHEDULED_TIME: string (nullable = true)\n",
      " |-- ELAPSED_TIME: string (nullable = true)\n",
      " |-- AIR_TIME: string (nullable = true)\n",
      " |-- DISTANCE: string (nullable = true)\n",
      " |-- SCHEDULED_ARRIVAL: string (nullable = true)\n",
      " |-- ARRIVAL_TIME: string (nullable = true)\n",
      " |-- ARRIVAL_DELAY: string (nullable = true)\n",
      " |-- DIVERTED: string (nullable = true)\n",
      " |-- CANCELLED: string (nullable = true)\n",
      " |-- CANCELLATION_REASON: string (nullable = true)\n",
      " |-- AIR_SYSTEM_DELAY: string (nullable = true)\n",
      " |-- SECURITY_DELAY: string (nullable = true)\n",
      " |-- AIRLINE_DELAY: string (nullable = true)\n",
      " |-- LATE_AIRCRAFT_DELAY: string (nullable = true)\n",
      " |-- WEATHER_DELAY: string (nullable = true)\n",
      " |-- IATA_CODE: string (nullable = true)\n",
      " |-- AIRPORT: string (nullable = true)\n",
      " |-- CITY: string (nullable = true)\n",
      " |-- STATE: string (nullable = true)\n",
      " |-- COUNTRY: string (nullable = true)\n",
      " |-- LATITUDE: string (nullable = true)\n",
      " |-- LONGITUDE: string (nullable = true)\n",
      " |-- IATA_CODE: string (nullable = true)\n",
      " |-- AIRLINE: string (nullable = true)\n",
      "\n"
     ]
    }
   ],
   "source": [
    "# Joined all the data set and stored DataFrames\n",
    "flights_with_airports= df_fl.join(df_ap, on=(df_fl.DESTINATION_AIRPORT == df_ap.IATA_CODE), how='leftouter')\n",
    "flights_wi_airline_airpo= flights_with_airports.join(df_al,on=(df_al.AIRLINE==flights_with_airports.AIRLINE),how='leftouter')\n",
    "flights_wi_airline_airpo.count()\n",
    "flights_wi_airline_airpo.printSchema()\n",
    "\n"
   ]
  },
  {
   "cell_type": "code",
   "execution_count": 5,
   "id": "222a0555",
   "metadata": {},
   "outputs": [
    {
     "name": "stdout",
     "output_type": "stream",
     "text": [
      "root\n",
      " |-- month: string (nullable = true)\n",
      " |-- TAIL_NUMBER: string (nullable = true)\n",
      " |-- Total_Distance: double (nullable = true)\n",
      "\n",
      "+-----+-----------+--------------+\n",
      "|month|TAIL_NUMBER|Total_Distance|\n",
      "+-----+-----------+--------------+\n",
      "|    1|     N001AA|       47547.0|\n",
      "|    1|     N002AA|       42052.0|\n",
      "|    1|     N003AA|       46306.0|\n",
      "|    1|     N004AA|       58632.0|\n",
      "|    1|     N005AA|       52377.0|\n",
      "|    1|     N006AA|       40502.0|\n",
      "|    1|     N007AA|       52032.0|\n",
      "|    1|     N008AA|       18789.0|\n",
      "|    1|     N009AA|       50562.0|\n",
      "|    1|     N010AA|       34216.0|\n",
      "+-----+-----------+--------------+\n",
      "only showing top 10 rows\n",
      "\n"
     ]
    }
   ],
   "source": [
    "## Month Wise totaldistance travelled by each Airplane\n",
    "\n",
    "df_fl_1= df_fl.select(\"month\",'TAIL_NUMBER',\"distance\",)\n",
    "df_total_dis_Flight = df_fl_1.filter(df_fl_1.month.isNotNull()).groupby(\"month\",\"TAIL_NUMBER\").agg({\"distance\":\"sum\"}).orderBy(\"month\",\"TAIL_NUMBER\").withColumnRenamed(\"sum(distance)\",\"Total_Distance\")\n",
    "df_total_dis_Flight.printSchema()\n",
    "df_total_dis_Flight.na.drop(how=\"any\").show(10)\n",
    "\n"
   ]
  },
  {
   "cell_type": "code",
   "execution_count": 6,
   "id": "25da5e63",
   "metadata": {},
   "outputs": [
    {
     "name": "stdout",
     "output_type": "stream",
     "text": [
      "root\n",
      " |-- month: string (nullable = true)\n",
      " |-- AIRLINE: string (nullable = true)\n",
      " |-- FLIGHT_NUMBER: string (nullable = true)\n",
      " |-- Total_diverted: double (nullable = true)\n",
      "\n",
      "+-----+-------+-------------+--------------+\n",
      "|month|AIRLINE|FLIGHT_NUMBER|Total_diverted|\n",
      "+-----+-------+-------------+--------------+\n",
      "|    1|     AA|         2454|           1.0|\n",
      "|    1|     AA|         1110|           1.0|\n",
      "|    1|     AA|         1447|           1.0|\n",
      "|    1|     AA|         2395|           1.0|\n",
      "|    1|     AA|         2280|           1.0|\n",
      "|    1|     AA|         1138|           1.0|\n",
      "|    1|     AA|           19|           1.0|\n",
      "|    1|     AA|         1529|           1.0|\n",
      "|    1|     AA|         1419|           1.0|\n",
      "|    1|     AA|          235|           1.0|\n",
      "+-----+-------+-------------+--------------+\n",
      "only showing top 10 rows\n",
      "\n"
     ]
    }
   ],
   "source": [
    "# Month Wise How many get Diverted from Origin to Destination\n",
    "\n",
    "df_fl_2 = df_fl.select(\"month\",\"AIRLINE\",\"FLIGHT_NUMBER\",\"diverted\")\n",
    "df_flight_div = df_fl_2.filter((df_fl_2.month.isNotNull()) & (df_fl_2.diverted=='1')).groupby(\"month\",\"AIRLINE\",\"FLIGHT_NUMBER\").agg({\"diverted\":\"sum\"}).orderBy(\"month\",\"AIRLINE\").withColumnRenamed(\"sum(diverted)\",\"Total_diverted\")\n",
    "df_flight_div.printSchema()\n",
    "df_flight_div.show(10)"
   ]
  },
  {
   "cell_type": "code",
   "execution_count": 7,
   "id": "429eca2c",
   "metadata": {},
   "outputs": [
    {
     "name": "stdout",
     "output_type": "stream",
     "text": [
      "+------------------------------------------------+-----------------+-----+--------------+\n",
      "|AIRPORT                                         |CITY             |STATE|NUm_Of_Flights|\n",
      "+------------------------------------------------+-----------------+-----+--------------+\n",
      "|Hartsfield-Jackson Atlanta International Airport|Atlanta          |GA   |105603        |\n",
      "|Chicago O'Hare International Airport            |Chicago          |IL   |104224        |\n",
      "|Dallas/Fort Worth International Airport         |Dallas-Fort Worth|TX   |83312         |\n",
      "|Los Angeles International Airport               |Los Angeles      |CA   |81985         |\n",
      "|Denver International Airport                    |Denver           |CO   |71443         |\n",
      "|San Francisco International Airport             |San Francisco    |CA   |55846         |\n",
      "|Phoenix Sky Harbor International Airport        |Phoenix          |AZ   |54619         |\n",
      "|George Bush Intercontinental Airport            |Houston          |TX   |53844         |\n",
      "|McCarran International Airport                  |Las Vegas        |NV   |48529         |\n",
      "|Orlando International Airport                   |Orlando          |FL   |41665         |\n",
      "+------------------------------------------------+-----------------+-----+--------------+\n",
      "only showing top 10 rows\n",
      "\n"
     ]
    }
   ],
   "source": [
    "# Arrival Delay count at airports \n",
    "\n",
    "df_join = df_fl.join( df_ap, (df_fl.DESTINATION_AIRPORT == df_ap.IATA_CODE),how='leftouter')\n",
    "df_out=df_join.filter(col(\"ARRIVAL_DELAY\")>\"0\").select([\"AIRPORT\",\"CITY\",\"STATE\"]).groupBy([\"AIRPORT\",\"CITY\",\"STATE\"]).count().orderBy(desc(\"count\")).withColumnRenamed('count','NUm_Of_Flights')\n",
    "df_out.na.drop(how=\"any\").show(10, truncate=False)"
   ]
  },
  {
   "cell_type": "code",
   "execution_count": 8,
   "id": "251f1cbf",
   "metadata": {},
   "outputs": [
    {
     "name": "stdout",
     "output_type": "stream",
     "text": [
      "+------------------------------------------------+-----------------+-----+--------------+\n",
      "|AIRPORT                                         |CITY             |STATE|NUm_Of_Flights|\n",
      "+------------------------------------------------+-----------------+-----+--------------+\n",
      "|Hartsfield-Jackson Atlanta International Airport|Atlanta          |GA   |110754        |\n",
      "|Chicago O'Hare International Airport            |Chicago          |IL   |97990         |\n",
      "|Los Angeles International Airport               |Los Angeles      |CA   |81828         |\n",
      "|Denver International Airport                    |Denver           |CO   |77972         |\n",
      "|Dallas/Fort Worth International Airport         |Dallas-Fort Worth|TX   |76151         |\n",
      "|San Francisco International Airport             |San Francisco    |CA   |65917         |\n",
      "|McCarran International Airport                  |Las Vegas        |NV   |54693         |\n",
      "|Phoenix Sky Harbor International Airport        |Phoenix          |AZ   |54289         |\n",
      "|George Bush Intercontinental Airport            |Houston          |TX   |53198         |\n",
      "|Orlando International Airport                   |Orlando          |FL   |44302         |\n",
      "+------------------------------------------------+-----------------+-----+--------------+\n",
      "only showing top 10 rows\n",
      "\n"
     ]
    }
   ],
   "source": [
    "# Departure Delay count at airports \n",
    "\n",
    "df_join = df_fl.join( df_ap, (df_fl.DESTINATION_AIRPORT == df_ap.IATA_CODE),how='leftouter')\n",
    "df_out=df_join.filter(col(\"DEPARTURE_DELAY\")>\"0\").select([\"AIRPORT\",\"CITY\",\"STATE\"]).groupBy([\"AIRPORT\",\"CITY\",\"STATE\"]).count().orderBy(desc(\"count\")).withColumnRenamed('count','NUm_Of_Flights')\n",
    "df_out.na.drop(how=\"any\").show(10,truncate=False)"
   ]
  },
  {
   "cell_type": "code",
   "execution_count": 9,
   "id": "a47b00ed",
   "metadata": {},
   "outputs": [
    {
     "name": "stdout",
     "output_type": "stream",
     "text": [
      "+--------------+-------------------+--------------------+\n",
      "|ORIGIN_AIRPORT|DESTINATION_AIRPORT|No_of_Active_flights|\n",
      "+--------------+-------------------+--------------------+\n",
      "|           SFO|                LAX|               13744|\n",
      "|           LAX|                SFO|               13457|\n",
      "|           JFK|                LAX|               12016|\n",
      "|           LAX|                JFK|               12015|\n",
      "|           LAS|                LAX|                9715|\n",
      "|           LGA|                ORD|                9639|\n",
      "|           LAX|                LAS|                9594|\n",
      "|           ORD|                LGA|                9575|\n",
      "|           SFO|                JFK|                8440|\n",
      "|           JFK|                SFO|                8437|\n",
      "+--------------+-------------------+--------------------+\n",
      "only showing top 10 rows\n",
      "\n"
     ]
    }
   ],
   "source": [
    "# Number of FLights between Airports In US\n",
    "\n",
    "df_join.createOrReplaceTempView('flights')\n",
    "df_Source_dest_airlines=df_fl.select(['ORIGIN_AIRPORT','DESTINATION_AIRPORT']).groupby('ORIGIN_AIRPORT','DESTINATION_AIRPORT').count().orderBy(desc(\"count\")).withColumnRenamed('count','No_of_Active_flights')\n",
    "df_Source_dest_airlines.show(10)"
   ]
  },
  {
   "cell_type": "code",
   "execution_count": 10,
   "id": "411177c4",
   "metadata": {},
   "outputs": [
    {
     "name": "stdout",
     "output_type": "stream",
     "text": [
      "+------------------------+---------------+\n",
      "|CANCELLATION_REASON     |Numberofflights|\n",
      "+------------------------+---------------+\n",
      "|WEATHER_DELAY           |48851          |\n",
      "|AIRLINE_DELAY           |25262          |\n",
      "|NATIONAL_AIRSYSTEM_DELAY|15749          |\n",
      "|SECURITY_REASON         |22             |\n",
      "+------------------------+---------------+\n",
      "\n"
     ]
    }
   ],
   "source": [
    "# Flight Delayed resons and no of flights delyed with those reasons\n",
    "df_cancelreason = df_fl.select(\"CANCELLATION_REASON\")\n",
    "df_out_new=df_cancelreason.na.drop(how=\"any\").groupBy(\"CANCELLATION_REASON\").count()\n",
    "\n",
    "df_flight_delayed_Reas = df_out_new.withColumn(\"CANCELLATION_REASON\", when(df_out_new.CANCELLATION_REASON == \"D\",\"SECURITY_REASON\")       .when(df_out_new.CANCELLATION_REASON == \"C\",\"NATIONAL_AIRSYSTEM_DELAY\")       .when(df_out_new.CANCELLATION_REASON == 'B',\"WEATHER_DELAY\")       .when(df_out_new.CANCELLATION_REASON == 'A',\"AIRLINE_DELAY\")       .otherwise(df_out_new.CANCELLATION_REASON))       .orderBy(desc(\"count\"))      .withColumnRenamed('count','Numberofflights')\n",
    "df_flight_delayed_Reas.show(truncate=False)"
   ]
  },
  {
   "cell_type": "code",
   "execution_count": 11,
   "id": "916ac23f",
   "metadata": {},
   "outputs": [
    {
     "name": "stdout",
     "output_type": "stream",
     "text": [
      "+-------+--------------+-------------------+-----------+-----------------+\n",
      "|AIRLINE|ORIGIN_AIRPORT|DESTINATION_AIRPORT|TAIL_NUMBER|        avg_speed|\n",
      "+-------+--------------+-------------------+-----------+-----------------+\n",
      "|     F9|           TTN|                UST|     N926FR|787.8688524590165|\n",
      "|     AA|           DFW|                TUS|     N425AA| 786.774193548387|\n",
      "|     OO|           DIK|                MSP|     N913EV|            780.0|\n",
      "|     OO|           ESC|                DTW|     N449SW|            765.0|\n",
      "|     AA|           CLT|                ORD|     N940UW|764.6808510638298|\n",
      "|     F9|           TTN|                UST|     N902FR|762.8571428571428|\n",
      "|     F9|           TTN|                UST|     N939FR|762.8571428571428|\n",
      "|     F9|           LAS|                CVG|     N918FR|762.7272727272726|\n",
      "|     NK|           IAH|                FLL|     N508NK|762.6315789473684|\n",
      "|     EV|           STL|                MSP|     N695CA|746.6666666666667|\n",
      "+-------+--------------+-------------------+-----------+-----------------+\n",
      "only showing top 10 rows\n",
      "\n"
     ]
    }
   ],
   "source": [
    "# Create a table and caluculate the average speed of each flight in both ways\n",
    "# Calculate average speed by dividing the distance by the air_time (converted to hours).Use the .alias() method name\n",
    "# Define avg_speed\n",
    "avg_speed = (df_fl.DISTANCE/(df_fl.AIR_TIME/60)).alias(\"avg_speed\")\n",
    "speed_1 = df_fl.select('AIRLINE','ORIGIN_AIRPORT','DESTINATION_AIRPORT','TAIL_NUMBER', avg_speed)\n",
    "\n",
    "#Using the Spark DataFrame method .selectExpr() \n",
    "speed_2 =df_fl.selectExpr('AIRLINE','ORIGIN_AIRPORT','DESTINATION_AIRPORT','TAIL_NUMBER','DISTANCE/(AIR_TIME/60) as avg_speed').orderBy(desc(\"avg_speed\"))\n",
    "speed_2.show(10)"
   ]
  }
 ],
 "metadata": {
  "kernelspec": {
   "display_name": "Python 3",
   "language": "python",
   "name": "python3"
  },
  "language_info": {
   "codemirror_mode": {
    "name": "ipython",
    "version": 3
   },
   "file_extension": ".py",
   "mimetype": "text/x-python",
   "name": "python",
   "nbconvert_exporter": "python",
   "pygments_lexer": "ipython3",
   "version": "3.8.8"
  }
 },
 "nbformat": 4,
 "nbformat_minor": 5
}
