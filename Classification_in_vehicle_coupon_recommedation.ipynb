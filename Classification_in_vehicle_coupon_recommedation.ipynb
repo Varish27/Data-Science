{
 "cells": [
  {
   "cell_type": "markdown",
   "id": "ca750275",
   "metadata": {},
   "source": [
    "Classification task:\n",
    "Decide about a good evaluation strategy beside accuracy and justify your choice.\n",
    "Apply all the classification models you've learned so far. If your model has a scaling parameter(s) use Grid Search to find the best hyper-parameter. Use plots and graphs to help you get a better glimpse of the results.\n",
    "Your submission should have at least the following classification models: KNN classification, Logistic Regression, Linear Support Vector Machine, Kerenilzed Support Vector Machine (rbf, poly, and linear), Decision Tree Classifier.\n",
    "Finally, find the best model for the classification dataset and train your model on the entire dataset using the best parameters and predict the target values for the test_set.\n",
    "Dataset Information\n",
    "We have taken our Dataset from UCI Machine learning Dataset Repository.\n",
    "\n",
    "Link for our datset -- https://archive.ics.uci.edu/ml/datasets/in-vehicle+coupon+recommendation\n",
    "\n",
    "This data was collected via a survey on Amazon Mechanical Turk. The survey describes different driving scenarios including the destination, current time, weather, passenger, etc., and then ask the person whether he will accept the coupon if he is the driver.\n",
    "\n",
    "First we Import the libraries that we are going to utilise in our Project\n",
    "1.Numpy\n",
    "2.Pandas\n",
    "3.Matplotlib"
   ]
  },
  {
   "cell_type": "code",
   "execution_count": 1,
   "id": "288d22ea",
   "metadata": {},
   "outputs": [],
   "source": [
    "import numpy as np\n",
    "import pandas as pd\n",
    "import matplotlib.pyplot as plt"
   ]
  },
  {
   "cell_type": "code",
   "execution_count": 2,
   "id": "e70f1b15",
   "metadata": {},
   "outputs": [
    {
     "data": {
      "text/html": [
       "<div>\n",
       "<style scoped>\n",
       "    .dataframe tbody tr th:only-of-type {\n",
       "        vertical-align: middle;\n",
       "    }\n",
       "\n",
       "    .dataframe tbody tr th {\n",
       "        vertical-align: top;\n",
       "    }\n",
       "\n",
       "    .dataframe thead th {\n",
       "        text-align: right;\n",
       "    }\n",
       "</style>\n",
       "<table border=\"1\" class=\"dataframe\">\n",
       "  <thead>\n",
       "    <tr style=\"text-align: right;\">\n",
       "      <th></th>\n",
       "      <th>destination</th>\n",
       "      <th>passanger</th>\n",
       "      <th>weather</th>\n",
       "      <th>temperature</th>\n",
       "      <th>time</th>\n",
       "      <th>coupon</th>\n",
       "      <th>expiration</th>\n",
       "      <th>gender</th>\n",
       "      <th>age</th>\n",
       "      <th>maritalStatus</th>\n",
       "      <th>...</th>\n",
       "      <th>CoffeeHouse</th>\n",
       "      <th>CarryAway</th>\n",
       "      <th>RestaurantLessThan20</th>\n",
       "      <th>Restaurant20To50</th>\n",
       "      <th>toCoupon_GEQ5min</th>\n",
       "      <th>toCoupon_GEQ15min</th>\n",
       "      <th>toCoupon_GEQ25min</th>\n",
       "      <th>direction_same</th>\n",
       "      <th>direction_opp</th>\n",
       "      <th>Y</th>\n",
       "    </tr>\n",
       "  </thead>\n",
       "  <tbody>\n",
       "    <tr>\n",
       "      <th>0</th>\n",
       "      <td>No Urgent Place</td>\n",
       "      <td>Alone</td>\n",
       "      <td>Sunny</td>\n",
       "      <td>55</td>\n",
       "      <td>2PM</td>\n",
       "      <td>Restaurant(&lt;20)</td>\n",
       "      <td>1d</td>\n",
       "      <td>Female</td>\n",
       "      <td>21</td>\n",
       "      <td>Unmarried partner</td>\n",
       "      <td>...</td>\n",
       "      <td>never</td>\n",
       "      <td>NaN</td>\n",
       "      <td>4~8</td>\n",
       "      <td>1~3</td>\n",
       "      <td>1</td>\n",
       "      <td>0</td>\n",
       "      <td>0</td>\n",
       "      <td>0</td>\n",
       "      <td>1</td>\n",
       "      <td>1</td>\n",
       "    </tr>\n",
       "    <tr>\n",
       "      <th>1</th>\n",
       "      <td>No Urgent Place</td>\n",
       "      <td>Friend(s)</td>\n",
       "      <td>Sunny</td>\n",
       "      <td>80</td>\n",
       "      <td>10AM</td>\n",
       "      <td>Coffee House</td>\n",
       "      <td>2h</td>\n",
       "      <td>Female</td>\n",
       "      <td>21</td>\n",
       "      <td>Unmarried partner</td>\n",
       "      <td>...</td>\n",
       "      <td>never</td>\n",
       "      <td>NaN</td>\n",
       "      <td>4~8</td>\n",
       "      <td>1~3</td>\n",
       "      <td>1</td>\n",
       "      <td>0</td>\n",
       "      <td>0</td>\n",
       "      <td>0</td>\n",
       "      <td>1</td>\n",
       "      <td>0</td>\n",
       "    </tr>\n",
       "    <tr>\n",
       "      <th>2</th>\n",
       "      <td>No Urgent Place</td>\n",
       "      <td>Friend(s)</td>\n",
       "      <td>Sunny</td>\n",
       "      <td>80</td>\n",
       "      <td>10AM</td>\n",
       "      <td>Carry out &amp; Take away</td>\n",
       "      <td>2h</td>\n",
       "      <td>Female</td>\n",
       "      <td>21</td>\n",
       "      <td>Unmarried partner</td>\n",
       "      <td>...</td>\n",
       "      <td>never</td>\n",
       "      <td>NaN</td>\n",
       "      <td>4~8</td>\n",
       "      <td>1~3</td>\n",
       "      <td>1</td>\n",
       "      <td>1</td>\n",
       "      <td>0</td>\n",
       "      <td>0</td>\n",
       "      <td>1</td>\n",
       "      <td>1</td>\n",
       "    </tr>\n",
       "    <tr>\n",
       "      <th>3</th>\n",
       "      <td>No Urgent Place</td>\n",
       "      <td>Friend(s)</td>\n",
       "      <td>Sunny</td>\n",
       "      <td>80</td>\n",
       "      <td>2PM</td>\n",
       "      <td>Coffee House</td>\n",
       "      <td>2h</td>\n",
       "      <td>Female</td>\n",
       "      <td>21</td>\n",
       "      <td>Unmarried partner</td>\n",
       "      <td>...</td>\n",
       "      <td>never</td>\n",
       "      <td>NaN</td>\n",
       "      <td>4~8</td>\n",
       "      <td>1~3</td>\n",
       "      <td>1</td>\n",
       "      <td>1</td>\n",
       "      <td>0</td>\n",
       "      <td>0</td>\n",
       "      <td>1</td>\n",
       "      <td>0</td>\n",
       "    </tr>\n",
       "    <tr>\n",
       "      <th>4</th>\n",
       "      <td>No Urgent Place</td>\n",
       "      <td>Friend(s)</td>\n",
       "      <td>Sunny</td>\n",
       "      <td>80</td>\n",
       "      <td>2PM</td>\n",
       "      <td>Coffee House</td>\n",
       "      <td>1d</td>\n",
       "      <td>Female</td>\n",
       "      <td>21</td>\n",
       "      <td>Unmarried partner</td>\n",
       "      <td>...</td>\n",
       "      <td>never</td>\n",
       "      <td>NaN</td>\n",
       "      <td>4~8</td>\n",
       "      <td>1~3</td>\n",
       "      <td>1</td>\n",
       "      <td>1</td>\n",
       "      <td>0</td>\n",
       "      <td>0</td>\n",
       "      <td>1</td>\n",
       "      <td>0</td>\n",
       "    </tr>\n",
       "  </tbody>\n",
       "</table>\n",
       "<p>5 rows × 26 columns</p>\n",
       "</div>"
      ],
      "text/plain": [
       "       destination  passanger weather  temperature  time  \\\n",
       "0  No Urgent Place      Alone   Sunny           55   2PM   \n",
       "1  No Urgent Place  Friend(s)   Sunny           80  10AM   \n",
       "2  No Urgent Place  Friend(s)   Sunny           80  10AM   \n",
       "3  No Urgent Place  Friend(s)   Sunny           80   2PM   \n",
       "4  No Urgent Place  Friend(s)   Sunny           80   2PM   \n",
       "\n",
       "                  coupon expiration  gender age      maritalStatus  ...  \\\n",
       "0        Restaurant(<20)         1d  Female  21  Unmarried partner  ...   \n",
       "1           Coffee House         2h  Female  21  Unmarried partner  ...   \n",
       "2  Carry out & Take away         2h  Female  21  Unmarried partner  ...   \n",
       "3           Coffee House         2h  Female  21  Unmarried partner  ...   \n",
       "4           Coffee House         1d  Female  21  Unmarried partner  ...   \n",
       "\n",
       "   CoffeeHouse CarryAway RestaurantLessThan20 Restaurant20To50  \\\n",
       "0        never       NaN                  4~8              1~3   \n",
       "1        never       NaN                  4~8              1~3   \n",
       "2        never       NaN                  4~8              1~3   \n",
       "3        never       NaN                  4~8              1~3   \n",
       "4        never       NaN                  4~8              1~3   \n",
       "\n",
       "  toCoupon_GEQ5min toCoupon_GEQ15min toCoupon_GEQ25min direction_same  \\\n",
       "0                1                 0                 0              0   \n",
       "1                1                 0                 0              0   \n",
       "2                1                 1                 0              0   \n",
       "3                1                 1                 0              0   \n",
       "4                1                 1                 0              0   \n",
       "\n",
       "  direction_opp  Y  \n",
       "0             1  1  \n",
       "1             1  0  \n",
       "2             1  1  \n",
       "3             1  0  \n",
       "4             1  0  \n",
       "\n",
       "[5 rows x 26 columns]"
      ]
     },
     "execution_count": 2,
     "metadata": {},
     "output_type": "execute_result"
    }
   ],
   "source": [
    "df = pd.read_csv(\"in-vehicle-coupon-recommendation.csv\", encoding='latin1')\n",
    "df.head()"
   ]
  },
  {
   "cell_type": "markdown",
   "id": "0f791e2d",
   "metadata": {},
   "source": [
    "Now we look through the dataset to find out missing values in the dataset"
   ]
  },
  {
   "cell_type": "code",
   "execution_count": 3,
   "id": "4f9a4eec",
   "metadata": {},
   "outputs": [
    {
     "name": "stdout",
     "output_type": "stream",
     "text": [
      "<class 'pandas.core.frame.DataFrame'>\n",
      "RangeIndex: 12684 entries, 0 to 12683\n",
      "Data columns (total 26 columns):\n",
      " #   Column                Non-Null Count  Dtype \n",
      "---  ------                --------------  ----- \n",
      " 0   destination           12684 non-null  object\n",
      " 1   passanger             12684 non-null  object\n",
      " 2   weather               12684 non-null  object\n",
      " 3   temperature           12684 non-null  int64 \n",
      " 4   time                  12684 non-null  object\n",
      " 5   coupon                12684 non-null  object\n",
      " 6   expiration            12684 non-null  object\n",
      " 7   gender                12684 non-null  object\n",
      " 8   age                   12684 non-null  object\n",
      " 9   maritalStatus         12684 non-null  object\n",
      " 10  has_children          12684 non-null  int64 \n",
      " 11  education             12684 non-null  object\n",
      " 12  occupation            12684 non-null  object\n",
      " 13  income                12684 non-null  object\n",
      " 14  car                   108 non-null    object\n",
      " 15  Bar                   12577 non-null  object\n",
      " 16  CoffeeHouse           12467 non-null  object\n",
      " 17  CarryAway             12533 non-null  object\n",
      " 18  RestaurantLessThan20  12554 non-null  object\n",
      " 19  Restaurant20To50      12495 non-null  object\n",
      " 20  toCoupon_GEQ5min      12684 non-null  int64 \n",
      " 21  toCoupon_GEQ15min     12684 non-null  int64 \n",
      " 22  toCoupon_GEQ25min     12684 non-null  int64 \n",
      " 23  direction_same        12684 non-null  int64 \n",
      " 24  direction_opp         12684 non-null  int64 \n",
      " 25  Y                     12684 non-null  int64 \n",
      "dtypes: int64(8), object(18)\n",
      "memory usage: 2.5+ MB\n"
     ]
    }
   ],
   "source": [
    "df.info()"
   ]
  },
  {
   "cell_type": "markdown",
   "id": "ee957046",
   "metadata": {},
   "source": [
    "As we do not have enough Null values in our dataset as per demands of the Project. We randomnly replaced non Null value to Null values. For this we also took the precation of not replacing values from our target variable Y. And also did not replace values from car variable as it had lot's of missing values. And after this we arrived at 5% missing values for the dataset on which we base our analysis."
   ]
  },
  {
   "cell_type": "code",
   "execution_count": 4,
   "id": "b15ea001",
   "metadata": {},
   "outputs": [
    {
     "name": "stdout",
     "output_type": "stream",
     "text": [
      "0    0.050205\n",
      "dtype: float64\n"
     ]
    }
   ],
   "source": [
    "y = df['Y']\n",
    "car = df['car']\n",
    "df = df.drop(['Y','car'], axis = 1)\n",
    "np.random.seed(0)\n",
    "df = df.mask(np.random.random(df.shape) <= 0.05 , try_cast=True)\n",
    "df['Y'] = y\n",
    "print(pd.DataFrame(df.isnull().sum()).sum() / (25*12684))\n",
    "df['car'] = car"
   ]
  },
  {
   "cell_type": "code",
   "execution_count": 5,
   "id": "5c2c2329",
   "metadata": {},
   "outputs": [
    {
     "name": "stdout",
     "output_type": "stream",
     "text": [
      "<class 'pandas.core.frame.DataFrame'>\n",
      "RangeIndex: 12684 entries, 0 to 12683\n",
      "Data columns (total 26 columns):\n",
      " #   Column                Non-Null Count  Dtype  \n",
      "---  ------                --------------  -----  \n",
      " 0   destination           12007 non-null  object \n",
      " 1   passanger             12068 non-null  object \n",
      " 2   weather               12038 non-null  object \n",
      " 3   temperature           12083 non-null  float64\n",
      " 4   time                  12059 non-null  object \n",
      " 5   coupon                12068 non-null  object \n",
      " 6   expiration            12064 non-null  object \n",
      " 7   gender                12066 non-null  object \n",
      " 8   age                   12048 non-null  object \n",
      " 9   maritalStatus         12032 non-null  object \n",
      " 10  has_children          12037 non-null  float64\n",
      " 11  education             12029 non-null  object \n",
      " 12  occupation            12025 non-null  object \n",
      " 13  income                12044 non-null  object \n",
      " 14  Bar                   11976 non-null  object \n",
      " 15  CoffeeHouse           11859 non-null  object \n",
      " 16  CarryAway             11900 non-null  object \n",
      " 17  RestaurantLessThan20  11917 non-null  object \n",
      " 18  Restaurant20To50      11898 non-null  object \n",
      " 19  toCoupon_GEQ5min      11998 non-null  float64\n",
      " 20  toCoupon_GEQ15min     12077 non-null  float64\n",
      " 21  toCoupon_GEQ25min     12072 non-null  float64\n",
      " 22  direction_same        12082 non-null  float64\n",
      " 23  direction_opp         12049 non-null  float64\n",
      " 24  Y                     12684 non-null  int64  \n",
      " 25  car                   108 non-null    object \n",
      "dtypes: float64(7), int64(1), object(18)\n",
      "memory usage: 2.5+ MB\n"
     ]
    }
   ],
   "source": [
    "df.info()"
   ]
  },
  {
   "cell_type": "markdown",
   "id": "ed28258b",
   "metadata": {},
   "source": [
    "# Exploratory Data Analysis\n",
    "First we look through all the columns and based on the structure , we define the strategy for tackling missing values, either through Data imputation or Dropping of Column.\n",
    "\n",
    "We can see that our target variable Y is distributed evenly between 0 and 1, thus we can say that it is a Balanced Dataset."
   ]
  },
  {
   "cell_type": "code",
   "execution_count": 6,
   "id": "182637be",
   "metadata": {},
   "outputs": [
    {
     "data": {
      "text/plain": [
       "1    7210\n",
       "0    5474\n",
       "Name: Y, dtype: int64"
      ]
     },
     "execution_count": 6,
     "metadata": {},
     "output_type": "execute_result"
    }
   ],
   "source": [
    "df['Y'].value_counts()"
   ]
  },
  {
   "cell_type": "markdown",
   "id": "d0e66938",
   "metadata": {},
   "source": [
    "We could see that Column destination shows that around 5979 persons are at No Urgent Place and around 3000 are both at Home and Work."
   ]
  },
  {
   "cell_type": "code",
   "execution_count": 7,
   "id": "1f58adfc",
   "metadata": {},
   "outputs": [
    {
     "data": {
      "text/plain": [
       "No Urgent Place    5940\n",
       "Home               3074\n",
       "Work               2993\n",
       "Name: destination, dtype: int64"
      ]
     },
     "execution_count": 7,
     "metadata": {},
     "output_type": "execute_result"
    }
   ],
   "source": [
    "df['destination'].value_counts()"
   ]
  },
  {
   "cell_type": "markdown",
   "id": "1d6267c4",
   "metadata": {},
   "source": [
    "We could observe that most of the people drive Alone around 6900."
   ]
  },
  {
   "cell_type": "code",
   "execution_count": 8,
   "id": "fd732bf5",
   "metadata": {},
   "outputs": [
    {
     "data": {
      "text/plain": [
       "Alone        6962\n",
       "Friend(s)    3133\n",
       "Partner      1023\n",
       "Kid(s)        950\n",
       "Name: passanger, dtype: int64"
      ]
     },
     "execution_count": 8,
     "metadata": {},
     "output_type": "execute_result"
    }
   ],
   "source": [
    "df['passanger'].value_counts()"
   ]
  },
  {
   "cell_type": "markdown",
   "id": "dafe2264",
   "metadata": {},
   "source": [
    "We could observe that the weather is mostly \"Sunny\" in the dataset."
   ]
  },
  {
   "cell_type": "code",
   "execution_count": 9,
   "id": "46f0a268",
   "metadata": {},
   "outputs": [
    {
     "data": {
      "text/plain": [
       "Sunny    9548\n",
       "Snowy    1338\n",
       "Rainy    1152\n",
       "Name: weather, dtype: int64"
      ]
     },
     "execution_count": 9,
     "metadata": {},
     "output_type": "execute_result"
    }
   ],
   "source": [
    "df['weather'].value_counts()"
   ]
  },
  {
   "cell_type": "markdown",
   "id": "d5ebe1da",
   "metadata": {},
   "source": [
    "We could observe that mostly the temperature is hot towards 80"
   ]
  },
  {
   "cell_type": "code",
   "execution_count": 10,
   "id": "6ac4c816",
   "metadata": {},
   "outputs": [
    {
     "data": {
      "text/plain": [
       "80.0    6192\n",
       "55.0    3674\n",
       "30.0    2217\n",
       "Name: temperature, dtype: int64"
      ]
     },
     "execution_count": 10,
     "metadata": {},
     "output_type": "execute_result"
    }
   ],
   "source": [
    "df['temperature'].value_counts()"
   ]
  },
  {
   "cell_type": "markdown",
   "id": "8dc6f546",
   "metadata": {},
   "source": [
    "The column time is evenly distributed among the 5 unique values."
   ]
  },
  {
   "cell_type": "code",
   "execution_count": 11,
   "id": "89ce1293",
   "metadata": {},
   "outputs": [
    {
     "data": {
      "text/plain": [
       "6PM     3061\n",
       "7AM     3011\n",
       "10AM    2172\n",
       "2PM     1909\n",
       "10PM    1906\n",
       "Name: time, dtype: int64"
      ]
     },
     "execution_count": 11,
     "metadata": {},
     "output_type": "execute_result"
    }
   ],
   "source": [
    "df['time'].value_counts()"
   ]
  },
  {
   "cell_type": "markdown",
   "id": "e246d41f",
   "metadata": {},
   "source": [
    "It could be seen that most of the coupon are offered by Coffee House."
   ]
  },
  {
   "cell_type": "code",
   "execution_count": 12,
   "id": "a5acc8f6",
   "metadata": {},
   "outputs": [
    {
     "data": {
      "text/plain": [
       "Coffee House             3810\n",
       "Restaurant(<20)          2651\n",
       "Carry out & Take away    2282\n",
       "Bar                      1912\n",
       "Restaurant(20-50)        1413\n",
       "Name: coupon, dtype: int64"
      ]
     },
     "execution_count": 12,
     "metadata": {},
     "output_type": "execute_result"
    }
   ],
   "source": [
    "df['coupon'].value_counts()"
   ]
  },
  {
   "cell_type": "markdown",
   "id": "78e5ee96",
   "metadata": {},
   "source": [
    "The expiration time of the coupons are evenly divided into two groups of \"2h\" and \"1d\"."
   ]
  },
  {
   "cell_type": "code",
   "execution_count": 13,
   "id": "2ef5a99e",
   "metadata": {},
   "outputs": [
    {
     "data": {
      "text/plain": [
       "1d    6741\n",
       "2h    5323\n",
       "Name: expiration, dtype: int64"
      ]
     },
     "execution_count": 13,
     "metadata": {},
     "output_type": "execute_result"
    }
   ],
   "source": [
    "df['expiration'].value_counts()"
   ]
  },
  {
   "cell_type": "markdown",
   "id": "c31ce0dd",
   "metadata": {},
   "source": [
    "The demographic ratio of gender could be seen as approximately same."
   ]
  },
  {
   "cell_type": "code",
   "execution_count": 14,
   "id": "1bc77d1c",
   "metadata": {},
   "outputs": [
    {
     "data": {
      "text/plain": [
       "Female    6193\n",
       "Male      5873\n",
       "Name: gender, dtype: int64"
      ]
     },
     "execution_count": 14,
     "metadata": {},
     "output_type": "execute_result"
    }
   ],
   "source": [
    "df['gender'].value_counts()"
   ]
  },
  {
   "cell_type": "markdown",
   "id": "5ee9c005",
   "metadata": {},
   "source": [
    "It could be observed that the age bracket between 21 and 41 are the persons who the survey is targeted at."
   ]
  },
  {
   "cell_type": "code",
   "execution_count": 15,
   "id": "31b0950f",
   "metadata": {},
   "outputs": [
    {
     "data": {
      "text/plain": [
       "21         2530\n",
       "26         2428\n",
       "31         1933\n",
       "50plus     1704\n",
       "36         1248\n",
       "41         1035\n",
       "46          648\n",
       "below21     522\n",
       "Name: age, dtype: int64"
      ]
     },
     "execution_count": 15,
     "metadata": {},
     "output_type": "execute_result"
    }
   ],
   "source": [
    "df['age'].value_counts()"
   ]
  },
  {
   "cell_type": "markdown",
   "id": "f67d026a",
   "metadata": {},
   "source": [
    "It could be observed that the person's single and with a partner are evenly distributed in the Dataset."
   ]
  },
  {
   "cell_type": "code",
   "execution_count": 16,
   "id": "8b981dfc",
   "metadata": {},
   "outputs": [
    {
     "data": {
      "text/plain": [
       "Married partner      4840\n",
       "Single               4520\n",
       "Unmarried partner    2055\n",
       "Divorced              494\n",
       "Widowed               123\n",
       "Name: maritalStatus, dtype: int64"
      ]
     },
     "execution_count": 16,
     "metadata": {},
     "output_type": "execute_result"
    }
   ],
   "source": [
    "df['maritalStatus'].value_counts()"
   ]
  },
  {
   "cell_type": "markdown",
   "id": "f80b8ebd",
   "metadata": {},
   "source": [
    "It could be seen most of the persons have children"
   ]
  },
  {
   "cell_type": "code",
   "execution_count": 17,
   "id": "4cb7418b",
   "metadata": {},
   "outputs": [
    {
     "data": {
      "text/plain": [
       "0.0    7064\n",
       "1.0    4973\n",
       "Name: has_children, dtype: int64"
      ]
     },
     "execution_count": 17,
     "metadata": {},
     "output_type": "execute_result"
    }
   ],
   "source": [
    "df['has_children'].value_counts()"
   ]
  },
  {
   "cell_type": "markdown",
   "id": "8d193b58",
   "metadata": {},
   "source": [
    "It could be observed that most of the people have either attended some college with no degree or have a Bachelor's Degree."
   ]
  },
  {
   "cell_type": "code",
   "execution_count": 18,
   "id": "8f367980",
   "metadata": {},
   "outputs": [
    {
     "data": {
      "text/plain": [
       "Some college - no degree                  4158\n",
       "Bachelors degree                          4087\n",
       "Graduate degree (Masters or Doctorate)    1760\n",
       "Associates degree                         1090\n",
       "High School Graduate                       851\n",
       "Some High School                            83\n",
       "Name: education, dtype: int64"
      ]
     },
     "execution_count": 18,
     "metadata": {},
     "output_type": "execute_result"
    }
   ],
   "source": [
    "df['education'].value_counts()"
   ]
  },
  {
   "cell_type": "markdown",
   "id": "b525c1bd",
   "metadata": {},
   "source": [
    "The coolumn Occupation does not show any insight into the dataset."
   ]
  },
  {
   "cell_type": "code",
   "execution_count": 19,
   "id": "28d0db20",
   "metadata": {},
   "outputs": [
    {
     "data": {
      "text/plain": [
       "Unemployed                                   1759\n",
       "Student                                      1501\n",
       "Computer & Mathematical                      1339\n",
       "Sales & Related                              1037\n",
       "Education&Training&Library                    907\n",
       "Management                                    791\n",
       "Office & Administrative Support               606\n",
       "Arts Design Entertainment Sports & Media      601\n",
       "Business & Financial                          514\n",
       "Retired                                       463\n",
       "Food Preparation & Serving Related            284\n",
       "Healthcare Practitioners & Technical          232\n",
       "Community & Social Services                   230\n",
       "Healthcare Support                            226\n",
       "Legal                                         210\n",
       "Transportation & Material Moving              208\n",
       "Architecture & Engineering                    167\n",
       "Life Physical Social Science                  165\n",
       "Personal Care & Service                       163\n",
       "Protective Service                            163\n",
       "Construction & Extraction                     147\n",
       "Installation Maintenance & Repair             123\n",
       "Production Occupations                        104\n",
       "Building & Grounds Cleaning & Maintenance      44\n",
       "Farming Fishing & Forestry                     41\n",
       "Name: occupation, dtype: int64"
      ]
     },
     "execution_count": 19,
     "metadata": {},
     "output_type": "execute_result"
    }
   ],
   "source": [
    "df['occupation'].value_counts()"
   ]
  },
  {
   "cell_type": "markdown",
   "id": "faeb5c2b",
   "metadata": {},
   "source": [
    "The income distribution of the survey sample is evenly distributed."
   ]
  },
  {
   "cell_type": "code",
   "execution_count": 20,
   "id": "7878d896",
   "metadata": {},
   "outputs": [
    {
     "data": {
      "text/plain": [
       "$25000 - $37499     1925\n",
       "$12500 - $24999     1733\n",
       "$37500 - $49999     1708\n",
       "$100000 or More     1654\n",
       "$50000 - $62499     1563\n",
       "Less than $12500     992\n",
       "$87500 - $99999      844\n",
       "$75000 - $87499      815\n",
       "$62500 - $74999      810\n",
       "Name: income, dtype: int64"
      ]
     },
     "execution_count": 20,
     "metadata": {},
     "output_type": "execute_result"
    }
   ],
   "source": [
    "df['income'].value_counts()"
   ]
  },
  {
   "cell_type": "markdown",
   "id": "9f927148",
   "metadata": {},
   "source": [
    "The column car has lot's of Null values, So we would need to drop this column."
   ]
  },
  {
   "cell_type": "code",
   "execution_count": 21,
   "id": "6ee9b1e5",
   "metadata": {},
   "outputs": [
    {
     "data": {
      "text/plain": [
       "Scooter and motorcycle                      22\n",
       "Mazda5                                      22\n",
       "do not drive                                22\n",
       "Car that is too old to install Onstar :D    21\n",
       "crossover                                   21\n",
       "Name: car, dtype: int64"
      ]
     },
     "execution_count": 21,
     "metadata": {},
     "output_type": "execute_result"
    }
   ],
   "source": [
    "df['car'].value_counts()"
   ]
  },
  {
   "cell_type": "markdown",
   "id": "a8fbe706",
   "metadata": {},
   "source": [
    "Most of the people have never visited any \"Bar\" and around 75% have visited less than 1 times."
   ]
  },
  {
   "cell_type": "code",
   "execution_count": 22,
   "id": "8346652f",
   "metadata": {},
   "outputs": [
    {
     "data": {
      "text/plain": [
       "never    4964\n",
       "less1    3302\n",
       "1~3      2355\n",
       "4~8      1024\n",
       "gt8       331\n",
       "Name: Bar, dtype: int64"
      ]
     },
     "execution_count": 22,
     "metadata": {},
     "output_type": "execute_result"
    }
   ],
   "source": [
    "df['Bar'].value_counts()"
   ]
  },
  {
   "cell_type": "markdown",
   "id": "0f973c07",
   "metadata": {},
   "source": [
    "It could be seen that the people visiting coffee house is evenly distributed in the dataset."
   ]
  },
  {
   "cell_type": "code",
   "execution_count": 23,
   "id": "07b7285c",
   "metadata": {},
   "outputs": [
    {
     "data": {
      "text/plain": [
       "less1    3226\n",
       "1~3      3065\n",
       "never    2824\n",
       "4~8      1698\n",
       "gt8      1046\n",
       "Name: CoffeeHouse, dtype: int64"
      ]
     },
     "execution_count": 23,
     "metadata": {},
     "output_type": "execute_result"
    }
   ],
   "source": [
    "df['CoffeeHouse'].value_counts()"
   ]
  },
  {
   "cell_type": "markdown",
   "id": "6d25191e",
   "metadata": {},
   "source": [
    "It could be observed most of the people in the Survey have taken CarryAway less than 8 times."
   ]
  },
  {
   "cell_type": "code",
   "execution_count": 24,
   "id": "7304b1a0",
   "metadata": {},
   "outputs": [
    {
     "data": {
      "text/plain": [
       "1~3      4440\n",
       "4~8      4052\n",
       "less1    1766\n",
       "gt8      1497\n",
       "never     145\n",
       "Name: CarryAway, dtype: int64"
      ]
     },
     "execution_count": 24,
     "metadata": {},
     "output_type": "execute_result"
    }
   ],
   "source": [
    "df['CarryAway'].value_counts()"
   ]
  },
  {
   "cell_type": "markdown",
   "id": "8486778f",
   "metadata": {},
   "source": [
    "It could be observed most of the people in the Survey have been to Restaurant less than 8 times."
   ]
  },
  {
   "cell_type": "code",
   "execution_count": 25,
   "id": "c7723352",
   "metadata": {},
   "outputs": [
    {
     "data": {
      "text/plain": [
       "1~3      5106\n",
       "4~8      3380\n",
       "less1    1995\n",
       "gt8      1224\n",
       "never     212\n",
       "Name: RestaurantLessThan20, dtype: int64"
      ]
     },
     "execution_count": 25,
     "metadata": {},
     "output_type": "execute_result"
    }
   ],
   "source": [
    "df['RestaurantLessThan20'].value_counts()"
   ]
  },
  {
   "cell_type": "code",
   "execution_count": 26,
   "id": "4b1c6ca5",
   "metadata": {},
   "outputs": [
    {
     "data": {
      "text/plain": [
       "less1    5776\n",
       "1~3      3126\n",
       "never    2044\n",
       "4~8       694\n",
       "gt8       258\n",
       "Name: Restaurant20To50, dtype: int64"
      ]
     },
     "execution_count": 26,
     "metadata": {},
     "output_type": "execute_result"
    }
   ],
   "source": [
    "df['Restaurant20To50'].value_counts()"
   ]
  },
  {
   "cell_type": "code",
   "execution_count": 27,
   "id": "2b64bc23",
   "metadata": {},
   "outputs": [
    {
     "data": {
      "text/plain": [
       "1.0    11998\n",
       "Name: toCoupon_GEQ5min, dtype: int64"
      ]
     },
     "execution_count": 27,
     "metadata": {},
     "output_type": "execute_result"
    }
   ],
   "source": [
    "df['toCoupon_GEQ5min'].value_counts()"
   ]
  },
  {
   "cell_type": "code",
   "execution_count": 28,
   "id": "cd9833cd",
   "metadata": {},
   "outputs": [
    {
     "data": {
      "text/plain": [
       "1.0    6792\n",
       "0.0    5285\n",
       "Name: toCoupon_GEQ15min, dtype: int64"
      ]
     },
     "execution_count": 28,
     "metadata": {},
     "output_type": "execute_result"
    }
   ],
   "source": [
    "df['toCoupon_GEQ15min'].value_counts()"
   ]
  },
  {
   "cell_type": "markdown",
   "id": "613264f7",
   "metadata": {},
   "source": [
    "We can observe the two columns direction_same and direction_opp provide the same information so we would be dropping one of the columns."
   ]
  },
  {
   "cell_type": "code",
   "execution_count": 29,
   "id": "db826ac1",
   "metadata": {},
   "outputs": [
    {
     "data": {
      "text/plain": [
       "0.0    9478\n",
       "1.0    2604\n",
       "Name: direction_same, dtype: int64"
      ]
     },
     "execution_count": 29,
     "metadata": {},
     "output_type": "execute_result"
    }
   ],
   "source": [
    "df['direction_same'].value_counts()"
   ]
  },
  {
   "cell_type": "code",
   "execution_count": 30,
   "id": "55bbab9a",
   "metadata": {},
   "outputs": [
    {
     "data": {
      "text/plain": [
       "1.0    9460\n",
       "0.0    2589\n",
       "Name: direction_opp, dtype: int64"
      ]
     },
     "execution_count": 30,
     "metadata": {},
     "output_type": "execute_result"
    }
   ],
   "source": [
    "df['direction_opp'].value_counts()"
   ]
  },
  {
   "cell_type": "markdown",
   "id": "0cb274b1",
   "metadata": {},
   "source": [
    "Data Preprocessing\n",
    "Mean - Mode imputation\n",
    "We are imputing the missing values(nan values) in the columns based on criteria as per our EDA.\n",
    "\n",
    "1. The missing values in **destination** column is imputed by mode of the **destination** column.\n",
    "2. The missing values in **passanger** column is imputed by mode of the **passanger** column.\n",
    "3. The missing values in **weather** column is imputed by mode of the **weather** column.\n",
    "4. The missing values in **temperature** column is imputed by mode of the **temperature** column for that **weather** group.\n",
    "5. The missing values in **time** column is imputed by mode of the **time** column.\n",
    "6. The missing values in **coupon** column is imputed by mode of the **coupon** column.\n",
    "7. The missing values in **expiration** column is imputed by mode of the **expiration** column for that **time** group.\n",
    "8. The missing values in **gender** column is imputed by mode of the **gender** column.\n",
    "9. The missing values in **age** column is imputed by mode of the **age** column.\n",
    "10. The missing values in **car** column is imputed by mode of the **car** column for that **age** group.\n",
    "11. The missing values in **maritalStatus** column is imputed by mode of the **maritalStatus** column for that **age** group.\n",
    "12. The missing values in **has_children** column is imputed by mode of the **has_children** column for that **maritalStatus** group.\n",
    "13. The missing values in **education** column is imputed by mode of the **education** column for that **age** group.\n",
    "14. The missing values in **occupation** column is imputed by mode of the **occupation** column for that **age** group.\n",
    "15. The missing values in **income** column is imputed by mode of the **income** column for that **education** group.\n",
    "16. The missing values in **Bar** column is imputed by mode of the **Bar** column for that **age** group.\n",
    "17. The missing values in **CoffeeHouse** column is imputed by mode of the **CoffeeHouse** column for that **car** group.\n",
    "18. The missing values in **CarryAway** column is imputed by mode of the **CarryAway** column for that **car** group.\n",
    "19. The missing values in **RestaurantLessThan20** column is imputed by mode of the **RestaurantLessThan20** column for that **car** group.\n",
    "20. The missing values in **Restaurant20To50** column is imputed by mode of the **Restaurant20To50** column for that **car** group.\n",
    "21. The missing values in **toCoupon_GEQ5min** column is imputed by mode of the **toCoupon_GEQ5min** column for that **car** group.\n",
    "22. The missing values in **toCoupon_GEQ15min** column is imputed by mode of the **toCoupon_GEQ15min** column for that **car** group.\n",
    "23. The missing values in **toCoupon_GEQ25min** column is imputed by mode of the **toCoupon_GEQ25min** column for that **car** group.\n",
    "24. The missing values in **direction_same** column is imputed by mode of the **direction_same** column for that **car** group.\n",
    "25. The missing values in **has_children** column is imputed by mode of the **has_children** column for that **maritalStatus** group."
   ]
  },
  {
   "cell_type": "code",
   "execution_count": 31,
   "id": "43d6cbef",
   "metadata": {},
   "outputs": [
    {
     "name": "stdout",
     "output_type": "stream",
     "text": [
      "<class 'pandas.core.frame.DataFrame'>\n",
      "RangeIndex: 12684 entries, 0 to 12683\n",
      "Data columns (total 26 columns):\n",
      " #   Column                Non-Null Count  Dtype  \n",
      "---  ------                --------------  -----  \n",
      " 0   destination           12684 non-null  object \n",
      " 1   passanger             12684 non-null  object \n",
      " 2   weather               12684 non-null  object \n",
      " 3   temperature           12684 non-null  float64\n",
      " 4   time                  12684 non-null  object \n",
      " 5   coupon                12684 non-null  object \n",
      " 6   expiration            12684 non-null  object \n",
      " 7   gender                12684 non-null  object \n",
      " 8   age                   12684 non-null  object \n",
      " 9   maritalStatus         12684 non-null  object \n",
      " 10  has_children          12684 non-null  float64\n",
      " 11  education             12684 non-null  object \n",
      " 12  occupation            12684 non-null  object \n",
      " 13  income                12684 non-null  object \n",
      " 14  Bar                   12684 non-null  object \n",
      " 15  CoffeeHouse           12684 non-null  object \n",
      " 16  CarryAway             12684 non-null  object \n",
      " 17  RestaurantLessThan20  12684 non-null  object \n",
      " 18  Restaurant20To50      12684 non-null  object \n",
      " 19  toCoupon_GEQ5min      12684 non-null  float64\n",
      " 20  toCoupon_GEQ15min     12684 non-null  float64\n",
      " 21  toCoupon_GEQ25min     12684 non-null  float64\n",
      " 22  direction_same        12684 non-null  float64\n",
      " 23  direction_opp         12049 non-null  float64\n",
      " 24  Y                     12684 non-null  int64  \n",
      " 25  car                   12684 non-null  object \n",
      "dtypes: float64(7), int64(1), object(18)\n",
      "memory usage: 2.5+ MB\n"
     ]
    }
   ],
   "source": [
    "#1\n",
    "df['destination'] = df['destination'].fillna(df['destination'].mode().iloc[0])\n",
    "#2\n",
    "df['passanger'] = df['passanger'].fillna(df['passanger'].mode().iloc[0])\n",
    "#3\n",
    "df['weather'] = df['weather'].fillna(df['weather'].mode().iloc[0])\n",
    "#4\n",
    "df['temperature'] = df.groupby(['weather'], sort = False)['temperature'].apply(lambda x: x.fillna(x.mean()))\n",
    "#5\n",
    "df['time'] = df['time'].fillna(df['time'].mode().iloc[0])\n",
    "#6\n",
    "df['coupon'] = df['coupon'].fillna(df['coupon'].mode().iloc[0])\n",
    "#7\n",
    "df['expiration'] = df.groupby(['time'], sort = False)['expiration'].apply(lambda x: x.fillna(df['expiration'].mode().iloc[0]))\n",
    "#8\n",
    "df['gender'] = df['gender'].fillna(df['gender'].mode().iloc[0])\n",
    "#9\n",
    "df['age'] = df['age'].fillna(df['age'].mode().iloc[0])\n",
    "#10\n",
    "df['car'] = df.groupby(['age'], sort = False)['car'].apply(lambda x: x.fillna(df['car'].mode().iloc[0]))\n",
    "#11\n",
    "df['maritalStatus'] = df.groupby(['age'], sort = False)['maritalStatus'].apply(lambda x: x.fillna(df['maritalStatus'].mode().iloc[0]))\n",
    "#12\n",
    "df['has_children'] = df.groupby(['maritalStatus'], sort = False)['has_children'].apply(lambda x: x.fillna(df['has_children'].mode().iloc[0]))\n",
    "#13\n",
    "df['education'] = df.groupby(['age'], sort = False)['education'].apply(lambda x: x.fillna(df['education'].mode().iloc[0]))\n",
    "#14\n",
    "df['occupation'] = df.groupby(['age'], sort = False)['occupation'].apply(lambda x: x.fillna(df['occupation'].mode().iloc[0]))\n",
    "#15\n",
    "df['income'] = df.groupby(['education'], sort = False)['income'].apply(lambda x: x.fillna(df['income'].mode().iloc[0]))\n",
    "#16\n",
    "df['Bar'] = df.groupby(['age'], sort = False)['Bar'].apply(lambda x: x.fillna(df['Bar'].mode().iloc[0]))\n",
    "#17\n",
    "df['CoffeeHouse'] = df.groupby(['age'], sort = False)['CoffeeHouse'].apply(lambda x: x.fillna(df['CoffeeHouse'].mode().iloc[0]))\n",
    "#18\n",
    "df['CarryAway'] = df.groupby(['age'], sort = False)['CarryAway'].apply(lambda x: x.fillna(df['CarryAway'].mode().iloc[0]))\n",
    "#19\n",
    "df['RestaurantLessThan20'] = df.groupby(['car'], sort = False)['RestaurantLessThan20'].apply(lambda x: x.fillna(df['RestaurantLessThan20'].mode().iloc[0]))\n",
    "#20\n",
    "df['Restaurant20To50'] = df.groupby(['car'], sort = False)['Restaurant20To50'].apply(lambda x: x.fillna(df['Restaurant20To50'].mode().iloc[0]))\n",
    "#21\n",
    "df['toCoupon_GEQ5min'] = df.groupby(['car'], sort = False)['toCoupon_GEQ5min'].apply(lambda x: x.fillna(df['toCoupon_GEQ5min'].mode().iloc[0]))\n",
    "#22\n",
    "df['toCoupon_GEQ15min'] = df.groupby(['car'], sort = False)['toCoupon_GEQ15min'].apply(lambda x: x.fillna(df['toCoupon_GEQ15min'].mode().iloc[0]))\n",
    "#23\n",
    "df['toCoupon_GEQ25min'] = df.groupby(['car'], sort = False)['toCoupon_GEQ25min'].apply(lambda x: x.fillna(df['toCoupon_GEQ25min'].mode().iloc[0]))\n",
    "#24\n",
    "df['direction_same'] = df.groupby(['car'], sort = False)['direction_same'].apply(lambda x: x.fillna(df['direction_same'].mode().iloc[0]))\n",
    "#25\n",
    "df['has_children'] = df.groupby(['maritalStatus'], sort = False)['has_children'].apply(lambda x: x.fillna(df['has_children'].mode().iloc[0]))\n",
    "df.info()"
   ]
  },
  {
   "cell_type": "markdown",
   "id": "6fd21be6",
   "metadata": {},
   "source": [
    "# Dropping variables\n",
    "We drop the variables occupation , car and direction_opp."
   ]
  },
  {
   "cell_type": "code",
   "execution_count": 32,
   "id": "b3123cee",
   "metadata": {},
   "outputs": [],
   "source": [
    "df = df.drop(['direction_opp', 'car','occupation'], axis = 1)"
   ]
  },
  {
   "cell_type": "markdown",
   "id": "392c25d1",
   "metadata": {},
   "source": [
    "# Transformation of multi-category variables into dummies\n",
    "We are utilising the concepts of One Hot Vector and converting the Categorical variables into dummies.\n",
    "\n",
    "A one hot encoding is a representation of categorical variables as binary vectors. This first requires that the categorical values be mapped to integer values. Then, each integer value is represented as a binary vector that is all zero values except the index of the integer, which is marked with a 1."
   ]
  },
  {
   "cell_type": "code",
   "execution_count": 33,
   "id": "14e825f7",
   "metadata": {},
   "outputs": [
    {
     "data": {
      "text/plain": [
       "Index(['passanger', 'weather', 'temperature', 'time', 'coupon', 'expiration',\n",
       "       'gender', 'age', 'maritalStatus', 'has_children', 'education', 'income',\n",
       "       'Bar', 'CoffeeHouse', 'CarryAway', 'RestaurantLessThan20',\n",
       "       'Restaurant20To50', 'toCoupon_GEQ5min', 'toCoupon_GEQ15min',\n",
       "       'toCoupon_GEQ25min', 'direction_same', 'Y', 'destination_Home',\n",
       "       'destination_No Urgent Place', 'destination_Work'],\n",
       "      dtype='object')"
      ]
     },
     "execution_count": 33,
     "metadata": {},
     "output_type": "execute_result"
    }
   ],
   "source": [
    "cols = pd.get_dummies(df['destination'], prefix = 'destination')\n",
    "df[cols.columns] = cols\n",
    "df = df.drop(['destination'], axis = 1)\n",
    "df.columns"
   ]
  },
  {
   "cell_type": "code",
   "execution_count": 34,
   "id": "a39a5776",
   "metadata": {},
   "outputs": [
    {
     "data": {
      "text/plain": [
       "Index(['weather', 'temperature', 'time', 'coupon', 'expiration', 'gender',\n",
       "       'age', 'maritalStatus', 'has_children', 'education', 'income', 'Bar',\n",
       "       'CoffeeHouse', 'CarryAway', 'RestaurantLessThan20', 'Restaurant20To50',\n",
       "       'toCoupon_GEQ5min', 'toCoupon_GEQ15min', 'toCoupon_GEQ25min',\n",
       "       'direction_same', 'Y', 'destination_Home',\n",
       "       'destination_No Urgent Place', 'destination_Work', 'passanger_Alone',\n",
       "       'passanger_Friend(s)', 'passanger_Kid(s)', 'passanger_Partner'],\n",
       "      dtype='object')"
      ]
     },
     "execution_count": 34,
     "metadata": {},
     "output_type": "execute_result"
    }
   ],
   "source": [
    "cols = pd.get_dummies(df['passanger'], prefix = 'passanger')\n",
    "df[cols.columns] = cols\n",
    "df = df.drop(['passanger'], axis = 1)\n",
    "df.columns"
   ]
  },
  {
   "cell_type": "code",
   "execution_count": 35,
   "id": "3d57f688",
   "metadata": {},
   "outputs": [
    {
     "data": {
      "text/plain": [
       "Index(['temperature', 'time', 'coupon', 'expiration', 'gender', 'age',\n",
       "       'maritalStatus', 'has_children', 'education', 'income', 'Bar',\n",
       "       'CoffeeHouse', 'CarryAway', 'RestaurantLessThan20', 'Restaurant20To50',\n",
       "       'toCoupon_GEQ5min', 'toCoupon_GEQ15min', 'toCoupon_GEQ25min',\n",
       "       'direction_same', 'Y', 'destination_Home',\n",
       "       'destination_No Urgent Place', 'destination_Work', 'passanger_Alone',\n",
       "       'passanger_Friend(s)', 'passanger_Kid(s)', 'passanger_Partner',\n",
       "       'weather_Rainy', 'weather_Snowy', 'weather_Sunny'],\n",
       "      dtype='object')"
      ]
     },
     "execution_count": 35,
     "metadata": {},
     "output_type": "execute_result"
    }
   ],
   "source": [
    "cols = pd.get_dummies(df['weather'], prefix = 'weather')\n",
    "df[cols.columns] = cols\n",
    "df = df.drop(['weather'], axis = 1)\n",
    "df.columns"
   ]
  },
  {
   "cell_type": "code",
   "execution_count": 36,
   "id": "8cae63d5",
   "metadata": {},
   "outputs": [
    {
     "data": {
      "text/plain": [
       "Index(['temperature', 'coupon', 'expiration', 'gender', 'age', 'maritalStatus',\n",
       "       'has_children', 'education', 'income', 'Bar', 'CoffeeHouse',\n",
       "       'CarryAway', 'RestaurantLessThan20', 'Restaurant20To50',\n",
       "       'toCoupon_GEQ5min', 'toCoupon_GEQ15min', 'toCoupon_GEQ25min',\n",
       "       'direction_same', 'Y', 'destination_Home',\n",
       "       'destination_No Urgent Place', 'destination_Work', 'passanger_Alone',\n",
       "       'passanger_Friend(s)', 'passanger_Kid(s)', 'passanger_Partner',\n",
       "       'weather_Rainy', 'weather_Snowy', 'weather_Sunny', 'time_10AM',\n",
       "       'time_10PM', 'time_2PM', 'time_6PM', 'time_7AM'],\n",
       "      dtype='object')"
      ]
     },
     "execution_count": 36,
     "metadata": {},
     "output_type": "execute_result"
    }
   ],
   "source": [
    "cols = pd.get_dummies(df['time'], prefix = 'time')\n",
    "df[cols.columns] = cols\n",
    "df = df.drop(['time'], axis = 1)\n",
    "df.columns"
   ]
  },
  {
   "cell_type": "code",
   "execution_count": 37,
   "id": "44d80c90",
   "metadata": {},
   "outputs": [
    {
     "data": {
      "text/plain": [
       "Index(['temperature', 'expiration', 'gender', 'age', 'maritalStatus',\n",
       "       'has_children', 'education', 'income', 'Bar', 'CoffeeHouse',\n",
       "       'CarryAway', 'RestaurantLessThan20', 'Restaurant20To50',\n",
       "       'toCoupon_GEQ5min', 'toCoupon_GEQ15min', 'toCoupon_GEQ25min',\n",
       "       'direction_same', 'Y', 'destination_Home',\n",
       "       'destination_No Urgent Place', 'destination_Work', 'passanger_Alone',\n",
       "       'passanger_Friend(s)', 'passanger_Kid(s)', 'passanger_Partner',\n",
       "       'weather_Rainy', 'weather_Snowy', 'weather_Sunny', 'time_10AM',\n",
       "       'time_10PM', 'time_2PM', 'time_6PM', 'time_7AM', 'coupon_Bar',\n",
       "       'coupon_Carry out & Take away', 'coupon_Coffee House',\n",
       "       'coupon_Restaurant(20-50)', 'coupon_Restaurant(<20)'],\n",
       "      dtype='object')"
      ]
     },
     "execution_count": 37,
     "metadata": {},
     "output_type": "execute_result"
    }
   ],
   "source": [
    "cols = pd.get_dummies(df['coupon'], prefix = 'coupon')\n",
    "df[cols.columns] = cols\n",
    "df = df.drop(['coupon'], axis = 1)\n",
    "df.columns"
   ]
  },
  {
   "cell_type": "code",
   "execution_count": 38,
   "id": "a56eb537",
   "metadata": {},
   "outputs": [],
   "source": [
    "df['expiration'].replace(\"2h\", 2, inplace = True)\n",
    "df['expiration'].replace(\"1d\", 24, inplace = True)"
   ]
  },
  {
   "cell_type": "code",
   "execution_count": 39,
   "id": "3e8ea466",
   "metadata": {},
   "outputs": [],
   "source": [
    "df['gender'].replace(\"Male\", 1, inplace = True)\n",
    "df['gender'].replace(\"Female\", 0, inplace = True)"
   ]
  },
  {
   "cell_type": "code",
   "execution_count": 40,
   "id": "3856e1bc",
   "metadata": {},
   "outputs": [
    {
     "data": {
      "text/plain": [
       "Index(['temperature', 'expiration', 'gender', 'maritalStatus', 'has_children',\n",
       "       'education', 'income', 'Bar', 'CoffeeHouse', 'CarryAway',\n",
       "       'RestaurantLessThan20', 'Restaurant20To50', 'toCoupon_GEQ5min',\n",
       "       'toCoupon_GEQ15min', 'toCoupon_GEQ25min', 'direction_same', 'Y',\n",
       "       'destination_Home', 'destination_No Urgent Place', 'destination_Work',\n",
       "       'passanger_Alone', 'passanger_Friend(s)', 'passanger_Kid(s)',\n",
       "       'passanger_Partner', 'weather_Rainy', 'weather_Snowy', 'weather_Sunny',\n",
       "       'time_10AM', 'time_10PM', 'time_2PM', 'time_6PM', 'time_7AM',\n",
       "       'coupon_Bar', 'coupon_Carry out & Take away', 'coupon_Coffee House',\n",
       "       'coupon_Restaurant(20-50)', 'coupon_Restaurant(<20)', 'age_21',\n",
       "       'age_26', 'age_31', 'age_36', 'age_41', 'age_46', 'age_50plus',\n",
       "       'age_below21'],\n",
       "      dtype='object')"
      ]
     },
     "execution_count": 40,
     "metadata": {},
     "output_type": "execute_result"
    }
   ],
   "source": [
    "cols = pd.get_dummies(df['age'], prefix = 'age')\n",
    "df[cols.columns] = cols\n",
    "df = df.drop(['age'], axis = 1)\n",
    "df.columns"
   ]
  },
  {
   "cell_type": "code",
   "execution_count": 41,
   "id": "feeef6fd",
   "metadata": {},
   "outputs": [
    {
     "data": {
      "text/plain": [
       "Index(['temperature', 'expiration', 'gender', 'has_children', 'education',\n",
       "       'income', 'Bar', 'CoffeeHouse', 'CarryAway', 'RestaurantLessThan20',\n",
       "       'Restaurant20To50', 'toCoupon_GEQ5min', 'toCoupon_GEQ15min',\n",
       "       'toCoupon_GEQ25min', 'direction_same', 'Y', 'destination_Home',\n",
       "       'destination_No Urgent Place', 'destination_Work', 'passanger_Alone',\n",
       "       'passanger_Friend(s)', 'passanger_Kid(s)', 'passanger_Partner',\n",
       "       'weather_Rainy', 'weather_Snowy', 'weather_Sunny', 'time_10AM',\n",
       "       'time_10PM', 'time_2PM', 'time_6PM', 'time_7AM', 'coupon_Bar',\n",
       "       'coupon_Carry out & Take away', 'coupon_Coffee House',\n",
       "       'coupon_Restaurant(20-50)', 'coupon_Restaurant(<20)', 'age_21',\n",
       "       'age_26', 'age_31', 'age_36', 'age_41', 'age_46', 'age_50plus',\n",
       "       'age_below21', 'maritalStatus_Divorced',\n",
       "       'maritalStatus_Married partner', 'maritalStatus_Single',\n",
       "       'maritalStatus_Unmarried partner', 'maritalStatus_Widowed'],\n",
       "      dtype='object')"
      ]
     },
     "execution_count": 41,
     "metadata": {},
     "output_type": "execute_result"
    }
   ],
   "source": [
    "cols = pd.get_dummies(df['maritalStatus'], prefix = 'maritalStatus')\n",
    "df[cols.columns] = cols\n",
    "df = df.drop(['maritalStatus'], axis = 1)\n",
    "df.columns"
   ]
  },
  {
   "cell_type": "code",
   "execution_count": 42,
   "id": "b5a1e20d",
   "metadata": {},
   "outputs": [
    {
     "data": {
      "text/plain": [
       "Index(['temperature', 'expiration', 'gender', 'has_children', 'income', 'Bar',\n",
       "       'CoffeeHouse', 'CarryAway', 'RestaurantLessThan20', 'Restaurant20To50',\n",
       "       'toCoupon_GEQ5min', 'toCoupon_GEQ15min', 'toCoupon_GEQ25min',\n",
       "       'direction_same', 'Y', 'destination_Home',\n",
       "       'destination_No Urgent Place', 'destination_Work', 'passanger_Alone',\n",
       "       'passanger_Friend(s)', 'passanger_Kid(s)', 'passanger_Partner',\n",
       "       'weather_Rainy', 'weather_Snowy', 'weather_Sunny', 'time_10AM',\n",
       "       'time_10PM', 'time_2PM', 'time_6PM', 'time_7AM', 'coupon_Bar',\n",
       "       'coupon_Carry out & Take away', 'coupon_Coffee House',\n",
       "       'coupon_Restaurant(20-50)', 'coupon_Restaurant(<20)', 'age_21',\n",
       "       'age_26', 'age_31', 'age_36', 'age_41', 'age_46', 'age_50plus',\n",
       "       'age_below21', 'maritalStatus_Divorced',\n",
       "       'maritalStatus_Married partner', 'maritalStatus_Single',\n",
       "       'maritalStatus_Unmarried partner', 'maritalStatus_Widowed',\n",
       "       'education_Associates degree', 'education_Bachelors degree',\n",
       "       'education_Graduate degree (Masters or Doctorate)',\n",
       "       'education_High School Graduate', 'education_Some High School',\n",
       "       'education_Some college - no degree'],\n",
       "      dtype='object')"
      ]
     },
     "execution_count": 42,
     "metadata": {},
     "output_type": "execute_result"
    }
   ],
   "source": [
    "cols = pd.get_dummies(df['education'], prefix = 'education')\n",
    "df[cols.columns] = cols\n",
    "df = df.drop(['education'], axis = 1)\n",
    "df.columns"
   ]
  },
  {
   "cell_type": "code",
   "execution_count": 43,
   "id": "674675a9",
   "metadata": {},
   "outputs": [
    {
     "data": {
      "text/plain": [
       "Index(['temperature', 'expiration', 'gender', 'has_children', 'Bar',\n",
       "       'CoffeeHouse', 'CarryAway', 'RestaurantLessThan20', 'Restaurant20To50',\n",
       "       'toCoupon_GEQ5min', 'toCoupon_GEQ15min', 'toCoupon_GEQ25min',\n",
       "       'direction_same', 'Y', 'destination_Home',\n",
       "       'destination_No Urgent Place', 'destination_Work', 'passanger_Alone',\n",
       "       'passanger_Friend(s)', 'passanger_Kid(s)', 'passanger_Partner',\n",
       "       'weather_Rainy', 'weather_Snowy', 'weather_Sunny', 'time_10AM',\n",
       "       'time_10PM', 'time_2PM', 'time_6PM', 'time_7AM', 'coupon_Bar',\n",
       "       'coupon_Carry out & Take away', 'coupon_Coffee House',\n",
       "       'coupon_Restaurant(20-50)', 'coupon_Restaurant(<20)', 'age_21',\n",
       "       'age_26', 'age_31', 'age_36', 'age_41', 'age_46', 'age_50plus',\n",
       "       'age_below21', 'maritalStatus_Divorced',\n",
       "       'maritalStatus_Married partner', 'maritalStatus_Single',\n",
       "       'maritalStatus_Unmarried partner', 'maritalStatus_Widowed',\n",
       "       'education_Associates degree', 'education_Bachelors degree',\n",
       "       'education_Graduate degree (Masters or Doctorate)',\n",
       "       'education_High School Graduate', 'education_Some High School',\n",
       "       'education_Some college - no degree', 'income_$100000 or More',\n",
       "       'income_$12500 - $24999', 'income_$25000 - $37499',\n",
       "       'income_$37500 - $49999', 'income_$50000 - $62499',\n",
       "       'income_$62500 - $74999', 'income_$75000 - $87499',\n",
       "       'income_$87500 - $99999', 'income_Less than $12500'],\n",
       "      dtype='object')"
      ]
     },
     "execution_count": 43,
     "metadata": {},
     "output_type": "execute_result"
    }
   ],
   "source": [
    "cols = pd.get_dummies(df['income'], prefix = 'income')\n",
    "df[cols.columns] = cols\n",
    "df = df.drop(['income'], axis = 1)\n",
    "df.columns"
   ]
  },
  {
   "cell_type": "code",
   "execution_count": 44,
   "id": "6f5bd2b3",
   "metadata": {},
   "outputs": [
    {
     "data": {
      "text/plain": [
       "Index(['temperature', 'expiration', 'gender', 'has_children', 'CoffeeHouse',\n",
       "       'CarryAway', 'RestaurantLessThan20', 'Restaurant20To50',\n",
       "       'toCoupon_GEQ5min', 'toCoupon_GEQ15min', 'toCoupon_GEQ25min',\n",
       "       'direction_same', 'Y', 'destination_Home',\n",
       "       'destination_No Urgent Place', 'destination_Work', 'passanger_Alone',\n",
       "       'passanger_Friend(s)', 'passanger_Kid(s)', 'passanger_Partner',\n",
       "       'weather_Rainy', 'weather_Snowy', 'weather_Sunny', 'time_10AM',\n",
       "       'time_10PM', 'time_2PM', 'time_6PM', 'time_7AM', 'coupon_Bar',\n",
       "       'coupon_Carry out & Take away', 'coupon_Coffee House',\n",
       "       'coupon_Restaurant(20-50)', 'coupon_Restaurant(<20)', 'age_21',\n",
       "       'age_26', 'age_31', 'age_36', 'age_41', 'age_46', 'age_50plus',\n",
       "       'age_below21', 'maritalStatus_Divorced',\n",
       "       'maritalStatus_Married partner', 'maritalStatus_Single',\n",
       "       'maritalStatus_Unmarried partner', 'maritalStatus_Widowed',\n",
       "       'education_Associates degree', 'education_Bachelors degree',\n",
       "       'education_Graduate degree (Masters or Doctorate)',\n",
       "       'education_High School Graduate', 'education_Some High School',\n",
       "       'education_Some college - no degree', 'income_$100000 or More',\n",
       "       'income_$12500 - $24999', 'income_$25000 - $37499',\n",
       "       'income_$37500 - $49999', 'income_$50000 - $62499',\n",
       "       'income_$62500 - $74999', 'income_$75000 - $87499',\n",
       "       'income_$87500 - $99999', 'income_Less than $12500', 'Bar_1~3',\n",
       "       'Bar_4~8', 'Bar_gt8', 'Bar_less1', 'Bar_never'],\n",
       "      dtype='object')"
      ]
     },
     "execution_count": 44,
     "metadata": {},
     "output_type": "execute_result"
    }
   ],
   "source": [
    "cols = pd.get_dummies(df['Bar'], prefix = 'Bar')\n",
    "df[cols.columns] = cols\n",
    "df = df.drop(['Bar'], axis = 1)\n",
    "df.columns"
   ]
  },
  {
   "cell_type": "code",
   "execution_count": 45,
   "id": "17fee3ca",
   "metadata": {},
   "outputs": [
    {
     "data": {
      "text/plain": [
       "Index(['temperature', 'expiration', 'gender', 'has_children', 'CarryAway',\n",
       "       'RestaurantLessThan20', 'Restaurant20To50', 'toCoupon_GEQ5min',\n",
       "       'toCoupon_GEQ15min', 'toCoupon_GEQ25min', 'direction_same', 'Y',\n",
       "       'destination_Home', 'destination_No Urgent Place', 'destination_Work',\n",
       "       'passanger_Alone', 'passanger_Friend(s)', 'passanger_Kid(s)',\n",
       "       'passanger_Partner', 'weather_Rainy', 'weather_Snowy', 'weather_Sunny',\n",
       "       'time_10AM', 'time_10PM', 'time_2PM', 'time_6PM', 'time_7AM',\n",
       "       'coupon_Bar', 'coupon_Carry out & Take away', 'coupon_Coffee House',\n",
       "       'coupon_Restaurant(20-50)', 'coupon_Restaurant(<20)', 'age_21',\n",
       "       'age_26', 'age_31', 'age_36', 'age_41', 'age_46', 'age_50plus',\n",
       "       'age_below21', 'maritalStatus_Divorced',\n",
       "       'maritalStatus_Married partner', 'maritalStatus_Single',\n",
       "       'maritalStatus_Unmarried partner', 'maritalStatus_Widowed',\n",
       "       'education_Associates degree', 'education_Bachelors degree',\n",
       "       'education_Graduate degree (Masters or Doctorate)',\n",
       "       'education_High School Graduate', 'education_Some High School',\n",
       "       'education_Some college - no degree', 'income_$100000 or More',\n",
       "       'income_$12500 - $24999', 'income_$25000 - $37499',\n",
       "       'income_$37500 - $49999', 'income_$50000 - $62499',\n",
       "       'income_$62500 - $74999', 'income_$75000 - $87499',\n",
       "       'income_$87500 - $99999', 'income_Less than $12500', 'Bar_1~3',\n",
       "       'Bar_4~8', 'Bar_gt8', 'Bar_less1', 'Bar_never', 'CoffeeHouse_1~3',\n",
       "       'CoffeeHouse_4~8', 'CoffeeHouse_gt8', 'CoffeeHouse_less1',\n",
       "       'CoffeeHouse_never'],\n",
       "      dtype='object')"
      ]
     },
     "execution_count": 45,
     "metadata": {},
     "output_type": "execute_result"
    }
   ],
   "source": [
    "cols = pd.get_dummies(df['CoffeeHouse'], prefix = 'CoffeeHouse')\n",
    "df[cols.columns] = cols\n",
    "df = df.drop(['CoffeeHouse'], axis = 1)\n",
    "df.columns"
   ]
  },
  {
   "cell_type": "code",
   "execution_count": 46,
   "id": "8a834818",
   "metadata": {},
   "outputs": [
    {
     "data": {
      "text/plain": [
       "Index(['temperature', 'expiration', 'gender', 'has_children',\n",
       "       'RestaurantLessThan20', 'Restaurant20To50', 'toCoupon_GEQ5min',\n",
       "       'toCoupon_GEQ15min', 'toCoupon_GEQ25min', 'direction_same', 'Y',\n",
       "       'destination_Home', 'destination_No Urgent Place', 'destination_Work',\n",
       "       'passanger_Alone', 'passanger_Friend(s)', 'passanger_Kid(s)',\n",
       "       'passanger_Partner', 'weather_Rainy', 'weather_Snowy', 'weather_Sunny',\n",
       "       'time_10AM', 'time_10PM', 'time_2PM', 'time_6PM', 'time_7AM',\n",
       "       'coupon_Bar', 'coupon_Carry out & Take away', 'coupon_Coffee House',\n",
       "       'coupon_Restaurant(20-50)', 'coupon_Restaurant(<20)', 'age_21',\n",
       "       'age_26', 'age_31', 'age_36', 'age_41', 'age_46', 'age_50plus',\n",
       "       'age_below21', 'maritalStatus_Divorced',\n",
       "       'maritalStatus_Married partner', 'maritalStatus_Single',\n",
       "       'maritalStatus_Unmarried partner', 'maritalStatus_Widowed',\n",
       "       'education_Associates degree', 'education_Bachelors degree',\n",
       "       'education_Graduate degree (Masters or Doctorate)',\n",
       "       'education_High School Graduate', 'education_Some High School',\n",
       "       'education_Some college - no degree', 'income_$100000 or More',\n",
       "       'income_$12500 - $24999', 'income_$25000 - $37499',\n",
       "       'income_$37500 - $49999', 'income_$50000 - $62499',\n",
       "       'income_$62500 - $74999', 'income_$75000 - $87499',\n",
       "       'income_$87500 - $99999', 'income_Less than $12500', 'Bar_1~3',\n",
       "       'Bar_4~8', 'Bar_gt8', 'Bar_less1', 'Bar_never', 'CoffeeHouse_1~3',\n",
       "       'CoffeeHouse_4~8', 'CoffeeHouse_gt8', 'CoffeeHouse_less1',\n",
       "       'CoffeeHouse_never', 'CarryAway_1~3', 'CarryAway_4~8', 'CarryAway_gt8',\n",
       "       'CarryAway_less1', 'CarryAway_never'],\n",
       "      dtype='object')"
      ]
     },
     "execution_count": 46,
     "metadata": {},
     "output_type": "execute_result"
    }
   ],
   "source": [
    "cols = pd.get_dummies(df['CarryAway'], prefix = 'CarryAway')\n",
    "df[cols.columns] = cols\n",
    "df = df.drop(['CarryAway'], axis = 1)\n",
    "df.columns"
   ]
  },
  {
   "cell_type": "code",
   "execution_count": 47,
   "id": "ccece4ef",
   "metadata": {},
   "outputs": [
    {
     "data": {
      "text/plain": [
       "Index(['temperature', 'expiration', 'gender', 'has_children',\n",
       "       'Restaurant20To50', 'toCoupon_GEQ5min', 'toCoupon_GEQ15min',\n",
       "       'toCoupon_GEQ25min', 'direction_same', 'Y', 'destination_Home',\n",
       "       'destination_No Urgent Place', 'destination_Work', 'passanger_Alone',\n",
       "       'passanger_Friend(s)', 'passanger_Kid(s)', 'passanger_Partner',\n",
       "       'weather_Rainy', 'weather_Snowy', 'weather_Sunny', 'time_10AM',\n",
       "       'time_10PM', 'time_2PM', 'time_6PM', 'time_7AM', 'coupon_Bar',\n",
       "       'coupon_Carry out & Take away', 'coupon_Coffee House',\n",
       "       'coupon_Restaurant(20-50)', 'coupon_Restaurant(<20)', 'age_21',\n",
       "       'age_26', 'age_31', 'age_36', 'age_41', 'age_46', 'age_50plus',\n",
       "       'age_below21', 'maritalStatus_Divorced',\n",
       "       'maritalStatus_Married partner', 'maritalStatus_Single',\n",
       "       'maritalStatus_Unmarried partner', 'maritalStatus_Widowed',\n",
       "       'education_Associates degree', 'education_Bachelors degree',\n",
       "       'education_Graduate degree (Masters or Doctorate)',\n",
       "       'education_High School Graduate', 'education_Some High School',\n",
       "       'education_Some college - no degree', 'income_$100000 or More',\n",
       "       'income_$12500 - $24999', 'income_$25000 - $37499',\n",
       "       'income_$37500 - $49999', 'income_$50000 - $62499',\n",
       "       'income_$62500 - $74999', 'income_$75000 - $87499',\n",
       "       'income_$87500 - $99999', 'income_Less than $12500', 'Bar_1~3',\n",
       "       'Bar_4~8', 'Bar_gt8', 'Bar_less1', 'Bar_never', 'CoffeeHouse_1~3',\n",
       "       'CoffeeHouse_4~8', 'CoffeeHouse_gt8', 'CoffeeHouse_less1',\n",
       "       'CoffeeHouse_never', 'CarryAway_1~3', 'CarryAway_4~8', 'CarryAway_gt8',\n",
       "       'CarryAway_less1', 'CarryAway_never', 'RestaurantLessThan20_1~3',\n",
       "       'RestaurantLessThan20_4~8', 'RestaurantLessThan20_gt8',\n",
       "       'RestaurantLessThan20_less1', 'RestaurantLessThan20_never'],\n",
       "      dtype='object')"
      ]
     },
     "execution_count": 47,
     "metadata": {},
     "output_type": "execute_result"
    }
   ],
   "source": [
    "cols = pd.get_dummies(df['RestaurantLessThan20'], prefix = 'RestaurantLessThan20')\n",
    "df[cols.columns] = cols\n",
    "df = df.drop(['RestaurantLessThan20'], axis = 1)\n",
    "df.columns"
   ]
  },
  {
   "cell_type": "code",
   "execution_count": 48,
   "id": "d6309ee3",
   "metadata": {},
   "outputs": [
    {
     "data": {
      "text/plain": [
       "Index(['temperature', 'expiration', 'gender', 'has_children',\n",
       "       'toCoupon_GEQ5min', 'toCoupon_GEQ15min', 'toCoupon_GEQ25min',\n",
       "       'direction_same', 'Y', 'destination_Home',\n",
       "       'destination_No Urgent Place', 'destination_Work', 'passanger_Alone',\n",
       "       'passanger_Friend(s)', 'passanger_Kid(s)', 'passanger_Partner',\n",
       "       'weather_Rainy', 'weather_Snowy', 'weather_Sunny', 'time_10AM',\n",
       "       'time_10PM', 'time_2PM', 'time_6PM', 'time_7AM', 'coupon_Bar',\n",
       "       'coupon_Carry out & Take away', 'coupon_Coffee House',\n",
       "       'coupon_Restaurant(20-50)', 'coupon_Restaurant(<20)', 'age_21',\n",
       "       'age_26', 'age_31', 'age_36', 'age_41', 'age_46', 'age_50plus',\n",
       "       'age_below21', 'maritalStatus_Divorced',\n",
       "       'maritalStatus_Married partner', 'maritalStatus_Single',\n",
       "       'maritalStatus_Unmarried partner', 'maritalStatus_Widowed',\n",
       "       'education_Associates degree', 'education_Bachelors degree',\n",
       "       'education_Graduate degree (Masters or Doctorate)',\n",
       "       'education_High School Graduate', 'education_Some High School',\n",
       "       'education_Some college - no degree', 'income_$100000 or More',\n",
       "       'income_$12500 - $24999', 'income_$25000 - $37499',\n",
       "       'income_$37500 - $49999', 'income_$50000 - $62499',\n",
       "       'income_$62500 - $74999', 'income_$75000 - $87499',\n",
       "       'income_$87500 - $99999', 'income_Less than $12500', 'Bar_1~3',\n",
       "       'Bar_4~8', 'Bar_gt8', 'Bar_less1', 'Bar_never', 'CoffeeHouse_1~3',\n",
       "       'CoffeeHouse_4~8', 'CoffeeHouse_gt8', 'CoffeeHouse_less1',\n",
       "       'CoffeeHouse_never', 'CarryAway_1~3', 'CarryAway_4~8', 'CarryAway_gt8',\n",
       "       'CarryAway_less1', 'CarryAway_never', 'RestaurantLessThan20_1~3',\n",
       "       'RestaurantLessThan20_4~8', 'RestaurantLessThan20_gt8',\n",
       "       'RestaurantLessThan20_less1', 'RestaurantLessThan20_never',\n",
       "       'Restaurant20To50_1~3', 'Restaurant20To50_4~8', 'Restaurant20To50_gt8',\n",
       "       'Restaurant20To50_less1', 'Restaurant20To50_never'],\n",
       "      dtype='object')"
      ]
     },
     "execution_count": 48,
     "metadata": {},
     "output_type": "execute_result"
    }
   ],
   "source": [
    "cols = pd.get_dummies(df['Restaurant20To50'], prefix = 'Restaurant20To50')\n",
    "df[cols.columns] = cols\n",
    "df = df.drop(['Restaurant20To50'], axis = 1)\n",
    "df.columns"
   ]
  },
  {
   "cell_type": "markdown",
   "id": "191c1e8d",
   "metadata": {},
   "source": [
    "Model Creation and Evaluation"
   ]
  },
  {
   "cell_type": "code",
   "execution_count": 49,
   "id": "5ab00982",
   "metadata": {},
   "outputs": [
    {
     "data": {
      "text/html": [
       "<div>\n",
       "<style scoped>\n",
       "    .dataframe tbody tr th:only-of-type {\n",
       "        vertical-align: middle;\n",
       "    }\n",
       "\n",
       "    .dataframe tbody tr th {\n",
       "        vertical-align: top;\n",
       "    }\n",
       "\n",
       "    .dataframe thead th {\n",
       "        text-align: right;\n",
       "    }\n",
       "</style>\n",
       "<table border=\"1\" class=\"dataframe\">\n",
       "  <thead>\n",
       "    <tr style=\"text-align: right;\">\n",
       "      <th></th>\n",
       "      <th>temperature</th>\n",
       "      <th>expiration</th>\n",
       "      <th>gender</th>\n",
       "      <th>has_children</th>\n",
       "      <th>toCoupon_GEQ5min</th>\n",
       "      <th>toCoupon_GEQ15min</th>\n",
       "      <th>toCoupon_GEQ25min</th>\n",
       "      <th>direction_same</th>\n",
       "      <th>Y</th>\n",
       "      <th>destination_Home</th>\n",
       "      <th>...</th>\n",
       "      <th>RestaurantLessThan20_1~3</th>\n",
       "      <th>RestaurantLessThan20_4~8</th>\n",
       "      <th>RestaurantLessThan20_gt8</th>\n",
       "      <th>RestaurantLessThan20_less1</th>\n",
       "      <th>RestaurantLessThan20_never</th>\n",
       "      <th>Restaurant20To50_1~3</th>\n",
       "      <th>Restaurant20To50_4~8</th>\n",
       "      <th>Restaurant20To50_gt8</th>\n",
       "      <th>Restaurant20To50_less1</th>\n",
       "      <th>Restaurant20To50_never</th>\n",
       "    </tr>\n",
       "  </thead>\n",
       "  <tbody>\n",
       "    <tr>\n",
       "      <th>0</th>\n",
       "      <td>55.00000</td>\n",
       "      <td>24</td>\n",
       "      <td>0</td>\n",
       "      <td>1.0</td>\n",
       "      <td>1.0</td>\n",
       "      <td>0.0</td>\n",
       "      <td>0.0</td>\n",
       "      <td>0.0</td>\n",
       "      <td>1</td>\n",
       "      <td>0</td>\n",
       "      <td>...</td>\n",
       "      <td>0</td>\n",
       "      <td>1</td>\n",
       "      <td>0</td>\n",
       "      <td>0</td>\n",
       "      <td>0</td>\n",
       "      <td>1</td>\n",
       "      <td>0</td>\n",
       "      <td>0</td>\n",
       "      <td>0</td>\n",
       "      <td>0</td>\n",
       "    </tr>\n",
       "    <tr>\n",
       "      <th>1</th>\n",
       "      <td>80.00000</td>\n",
       "      <td>2</td>\n",
       "      <td>0</td>\n",
       "      <td>0.0</td>\n",
       "      <td>1.0</td>\n",
       "      <td>0.0</td>\n",
       "      <td>0.0</td>\n",
       "      <td>0.0</td>\n",
       "      <td>0</td>\n",
       "      <td>0</td>\n",
       "      <td>...</td>\n",
       "      <td>0</td>\n",
       "      <td>1</td>\n",
       "      <td>0</td>\n",
       "      <td>0</td>\n",
       "      <td>0</td>\n",
       "      <td>1</td>\n",
       "      <td>0</td>\n",
       "      <td>0</td>\n",
       "      <td>0</td>\n",
       "      <td>0</td>\n",
       "    </tr>\n",
       "    <tr>\n",
       "      <th>2</th>\n",
       "      <td>80.00000</td>\n",
       "      <td>2</td>\n",
       "      <td>0</td>\n",
       "      <td>1.0</td>\n",
       "      <td>1.0</td>\n",
       "      <td>1.0</td>\n",
       "      <td>0.0</td>\n",
       "      <td>0.0</td>\n",
       "      <td>1</td>\n",
       "      <td>0</td>\n",
       "      <td>...</td>\n",
       "      <td>0</td>\n",
       "      <td>1</td>\n",
       "      <td>0</td>\n",
       "      <td>0</td>\n",
       "      <td>0</td>\n",
       "      <td>1</td>\n",
       "      <td>0</td>\n",
       "      <td>0</td>\n",
       "      <td>0</td>\n",
       "      <td>0</td>\n",
       "    </tr>\n",
       "    <tr>\n",
       "      <th>3</th>\n",
       "      <td>68.55133</td>\n",
       "      <td>2</td>\n",
       "      <td>0</td>\n",
       "      <td>1.0</td>\n",
       "      <td>1.0</td>\n",
       "      <td>1.0</td>\n",
       "      <td>0.0</td>\n",
       "      <td>0.0</td>\n",
       "      <td>0</td>\n",
       "      <td>0</td>\n",
       "      <td>...</td>\n",
       "      <td>0</td>\n",
       "      <td>1</td>\n",
       "      <td>0</td>\n",
       "      <td>0</td>\n",
       "      <td>0</td>\n",
       "      <td>1</td>\n",
       "      <td>0</td>\n",
       "      <td>0</td>\n",
       "      <td>0</td>\n",
       "      <td>0</td>\n",
       "    </tr>\n",
       "    <tr>\n",
       "      <th>4</th>\n",
       "      <td>68.55133</td>\n",
       "      <td>24</td>\n",
       "      <td>0</td>\n",
       "      <td>1.0</td>\n",
       "      <td>1.0</td>\n",
       "      <td>1.0</td>\n",
       "      <td>0.0</td>\n",
       "      <td>0.0</td>\n",
       "      <td>0</td>\n",
       "      <td>0</td>\n",
       "      <td>...</td>\n",
       "      <td>0</td>\n",
       "      <td>1</td>\n",
       "      <td>0</td>\n",
       "      <td>0</td>\n",
       "      <td>0</td>\n",
       "      <td>1</td>\n",
       "      <td>0</td>\n",
       "      <td>0</td>\n",
       "      <td>0</td>\n",
       "      <td>0</td>\n",
       "    </tr>\n",
       "  </tbody>\n",
       "</table>\n",
       "<p>5 rows × 82 columns</p>\n",
       "</div>"
      ],
      "text/plain": [
       "   temperature  expiration  gender  has_children  toCoupon_GEQ5min  \\\n",
       "0     55.00000          24       0           1.0               1.0   \n",
       "1     80.00000           2       0           0.0               1.0   \n",
       "2     80.00000           2       0           1.0               1.0   \n",
       "3     68.55133           2       0           1.0               1.0   \n",
       "4     68.55133          24       0           1.0               1.0   \n",
       "\n",
       "   toCoupon_GEQ15min  toCoupon_GEQ25min  direction_same  Y  destination_Home  \\\n",
       "0                0.0                0.0             0.0  1                 0   \n",
       "1                0.0                0.0             0.0  0                 0   \n",
       "2                1.0                0.0             0.0  1                 0   \n",
       "3                1.0                0.0             0.0  0                 0   \n",
       "4                1.0                0.0             0.0  0                 0   \n",
       "\n",
       "   ...  RestaurantLessThan20_1~3  RestaurantLessThan20_4~8  \\\n",
       "0  ...                         0                         1   \n",
       "1  ...                         0                         1   \n",
       "2  ...                         0                         1   \n",
       "3  ...                         0                         1   \n",
       "4  ...                         0                         1   \n",
       "\n",
       "   RestaurantLessThan20_gt8  RestaurantLessThan20_less1  \\\n",
       "0                         0                           0   \n",
       "1                         0                           0   \n",
       "2                         0                           0   \n",
       "3                         0                           0   \n",
       "4                         0                           0   \n",
       "\n",
       "   RestaurantLessThan20_never  Restaurant20To50_1~3  Restaurant20To50_4~8  \\\n",
       "0                           0                     1                     0   \n",
       "1                           0                     1                     0   \n",
       "2                           0                     1                     0   \n",
       "3                           0                     1                     0   \n",
       "4                           0                     1                     0   \n",
       "\n",
       "   Restaurant20To50_gt8  Restaurant20To50_less1  Restaurant20To50_never  \n",
       "0                     0                       0                       0  \n",
       "1                     0                       0                       0  \n",
       "2                     0                       0                       0  \n",
       "3                     0                       0                       0  \n",
       "4                     0                       0                       0  \n",
       "\n",
       "[5 rows x 82 columns]"
      ]
     },
     "execution_count": 49,
     "metadata": {},
     "output_type": "execute_result"
    }
   ],
   "source": [
    "df.head()"
   ]
  },
  {
   "cell_type": "markdown",
   "id": "d4d92a97",
   "metadata": {},
   "source": [
    "We split our dataframe into two parts the target variable y and the predictors X."
   ]
  },
  {
   "cell_type": "code",
   "execution_count": 50,
   "id": "c5323887",
   "metadata": {},
   "outputs": [],
   "source": [
    "y = df['Y']\n",
    "X = df.drop(['Y'], axis = 1)"
   ]
  },
  {
   "cell_type": "markdown",
   "id": "d4fa4cc6",
   "metadata": {},
   "source": [
    "We are using train_test_split function of Scikitlearn library to split our dataset into train and test."
   ]
  },
  {
   "cell_type": "code",
   "execution_count": 51,
   "id": "a06e0054",
   "metadata": {},
   "outputs": [],
   "source": [
    "from sklearn.model_selection import train_test_split\n",
    "X_train, X_test, y_train, y_test = train_test_split(X, y, test_size=0.25, random_state=0)"
   ]
  },
  {
   "cell_type": "markdown",
   "id": "acdc1c11",
   "metadata": {},
   "source": [
    "First looking at the Scatter Matrix of first 5 columns to get a snapshot of the relationship between the variables."
   ]
  },
  {
   "cell_type": "code",
   "execution_count": 52,
   "id": "c48f6c50",
   "metadata": {},
   "outputs": [
    {
     "name": "stderr",
     "output_type": "stream",
     "text": [
      "C:\\Users\\Varish\\anaconda3\\lib\\site-packages\\pandas\\plotting\\_matplotlib\\misc.py:89: UserWarning: Attempting to set identical left == right == 1.0 results in singular transformations; automatically expanding.\n",
      "  ax.set_xlim(boundaries_list[j])\n",
      "C:\\Users\\Varish\\anaconda3\\lib\\site-packages\\pandas\\plotting\\_matplotlib\\misc.py:90: UserWarning: Attempting to set identical bottom == top == 1.0 results in singular transformations; automatically expanding.\n",
      "  ax.set_ylim(boundaries_list[i])\n",
      "C:\\Users\\Varish\\anaconda3\\lib\\site-packages\\pandas\\plotting\\_matplotlib\\misc.py:80: UserWarning: Attempting to set identical left == right == 1.0 results in singular transformations; automatically expanding.\n",
      "  ax.set_xlim(boundaries_list[i])\n"
     ]
    },
    {
     "data": {
      "text/plain": [
       "array([[<AxesSubplot:xlabel='temperature', ylabel='temperature'>,\n",
       "        <AxesSubplot:xlabel='expiration', ylabel='temperature'>,\n",
       "        <AxesSubplot:xlabel='gender', ylabel='temperature'>,\n",
       "        <AxesSubplot:xlabel='has_children', ylabel='temperature'>,\n",
       "        <AxesSubplot:xlabel='toCoupon_GEQ5min', ylabel='temperature'>],\n",
       "       [<AxesSubplot:xlabel='temperature', ylabel='expiration'>,\n",
       "        <AxesSubplot:xlabel='expiration', ylabel='expiration'>,\n",
       "        <AxesSubplot:xlabel='gender', ylabel='expiration'>,\n",
       "        <AxesSubplot:xlabel='has_children', ylabel='expiration'>,\n",
       "        <AxesSubplot:xlabel='toCoupon_GEQ5min', ylabel='expiration'>],\n",
       "       [<AxesSubplot:xlabel='temperature', ylabel='gender'>,\n",
       "        <AxesSubplot:xlabel='expiration', ylabel='gender'>,\n",
       "        <AxesSubplot:xlabel='gender', ylabel='gender'>,\n",
       "        <AxesSubplot:xlabel='has_children', ylabel='gender'>,\n",
       "        <AxesSubplot:xlabel='toCoupon_GEQ5min', ylabel='gender'>],\n",
       "       [<AxesSubplot:xlabel='temperature', ylabel='has_children'>,\n",
       "        <AxesSubplot:xlabel='expiration', ylabel='has_children'>,\n",
       "        <AxesSubplot:xlabel='gender', ylabel='has_children'>,\n",
       "        <AxesSubplot:xlabel='has_children', ylabel='has_children'>,\n",
       "        <AxesSubplot:xlabel='toCoupon_GEQ5min', ylabel='has_children'>],\n",
       "       [<AxesSubplot:xlabel='temperature', ylabel='toCoupon_GEQ5min'>,\n",
       "        <AxesSubplot:xlabel='expiration', ylabel='toCoupon_GEQ5min'>,\n",
       "        <AxesSubplot:xlabel='gender', ylabel='toCoupon_GEQ5min'>,\n",
       "        <AxesSubplot:xlabel='has_children', ylabel='toCoupon_GEQ5min'>,\n",
       "        <AxesSubplot:xlabel='toCoupon_GEQ5min', ylabel='toCoupon_GEQ5min'>]],\n",
       "      dtype=object)"
      ]
     },
     "execution_count": 52,
     "metadata": {},
     "output_type": "execute_result"
    },
    {
     "data": {
      "image/png": "[encoded data removed]",
      "text/plain": [
       "<Figure size 1080x1080 with 25 Axes>"
      ]
     },
     "metadata": {
      "needs_background": "light"
     },
     "output_type": "display_data"
    }
   ],
   "source": [
    "%matplotlib inline\n",
    "from pandas.plotting import scatter_matrix\n",
    "\n",
    "attributes = df.columns[:5]\n",
    "scatter_matrix(X[attributes], figsize = (15,15), c = y, alpha = 0.8, marker = 'O')"
   ]
  },
  {
   "cell_type": "markdown",
   "id": "2bce6e23",
   "metadata": {},
   "source": [
    "Then we Scale the dataset using MinMaxScaler method from ScikitLearn Library.\n",
    "\n",
    "This estimator scales and translates each feature individually such that it is in the given range on the training set, e.g. between zero and one."
   ]
  },
  {
   "cell_type": "code",
   "execution_count": 53,
   "id": "2f11c2b8",
   "metadata": {},
   "outputs": [
    {
     "data": {
      "text/html": [
       "<div>\n",
       "<style scoped>\n",
       "    .dataframe tbody tr th:only-of-type {\n",
       "        vertical-align: middle;\n",
       "    }\n",
       "\n",
       "    .dataframe tbody tr th {\n",
       "        vertical-align: top;\n",
       "    }\n",
       "\n",
       "    .dataframe thead th {\n",
       "        text-align: right;\n",
       "    }\n",
       "</style>\n",
       "<table border=\"1\" class=\"dataframe\">\n",
       "  <thead>\n",
       "    <tr style=\"text-align: right;\">\n",
       "      <th></th>\n",
       "      <th>0</th>\n",
       "      <th>1</th>\n",
       "      <th>2</th>\n",
       "      <th>3</th>\n",
       "      <th>4</th>\n",
       "      <th>5</th>\n",
       "      <th>6</th>\n",
       "      <th>7</th>\n",
       "      <th>8</th>\n",
       "      <th>9</th>\n",
       "      <th>...</th>\n",
       "      <th>71</th>\n",
       "      <th>72</th>\n",
       "      <th>73</th>\n",
       "      <th>74</th>\n",
       "      <th>75</th>\n",
       "      <th>76</th>\n",
       "      <th>77</th>\n",
       "      <th>78</th>\n",
       "      <th>79</th>\n",
       "      <th>80</th>\n",
       "    </tr>\n",
       "  </thead>\n",
       "  <tbody>\n",
       "    <tr>\n",
       "      <th>count</th>\n",
       "      <td>9513.000000</td>\n",
       "      <td>9513.000000</td>\n",
       "      <td>9513.000000</td>\n",
       "      <td>9513.000000</td>\n",
       "      <td>9513.0</td>\n",
       "      <td>9513.000000</td>\n",
       "      <td>9513.000000</td>\n",
       "      <td>9513.000000</td>\n",
       "      <td>9513.000000</td>\n",
       "      <td>9513.000000</td>\n",
       "      <td>...</td>\n",
       "      <td>9513.000000</td>\n",
       "      <td>9513.000000</td>\n",
       "      <td>9513.000000</td>\n",
       "      <td>9513.000000</td>\n",
       "      <td>9513.000000</td>\n",
       "      <td>9513.000000</td>\n",
       "      <td>9513.000000</td>\n",
       "      <td>9513.000000</td>\n",
       "      <td>9513.000000</td>\n",
       "      <td>9513.000000</td>\n",
       "    </tr>\n",
       "    <tr>\n",
       "      <th>mean</th>\n",
       "      <td>0.668803</td>\n",
       "      <td>0.578261</td>\n",
       "      <td>0.464207</td>\n",
       "      <td>0.388311</td>\n",
       "      <td>0.0</td>\n",
       "      <td>0.583622</td>\n",
       "      <td>0.114054</td>\n",
       "      <td>0.202775</td>\n",
       "      <td>0.241880</td>\n",
       "      <td>0.521392</td>\n",
       "      <td>...</td>\n",
       "      <td>0.460212</td>\n",
       "      <td>0.268264</td>\n",
       "      <td>0.097340</td>\n",
       "      <td>0.157048</td>\n",
       "      <td>0.017134</td>\n",
       "      <td>0.246084</td>\n",
       "      <td>0.055923</td>\n",
       "      <td>0.020183</td>\n",
       "      <td>0.519184</td>\n",
       "      <td>0.158625</td>\n",
       "    </tr>\n",
       "    <tr>\n",
       "      <th>std</th>\n",
       "      <td>0.376278</td>\n",
       "      <td>0.493863</td>\n",
       "      <td>0.498743</td>\n",
       "      <td>0.487392</td>\n",
       "      <td>0.0</td>\n",
       "      <td>0.492984</td>\n",
       "      <td>0.317894</td>\n",
       "      <td>0.402088</td>\n",
       "      <td>0.428244</td>\n",
       "      <td>0.499568</td>\n",
       "      <td>...</td>\n",
       "      <td>0.498441</td>\n",
       "      <td>0.443079</td>\n",
       "      <td>0.296436</td>\n",
       "      <td>0.363865</td>\n",
       "      <td>0.129779</td>\n",
       "      <td>0.430751</td>\n",
       "      <td>0.229786</td>\n",
       "      <td>0.140633</td>\n",
       "      <td>0.499658</td>\n",
       "      <td>0.365345</td>\n",
       "    </tr>\n",
       "    <tr>\n",
       "      <th>min</th>\n",
       "      <td>0.000000</td>\n",
       "      <td>0.000000</td>\n",
       "      <td>0.000000</td>\n",
       "      <td>0.000000</td>\n",
       "      <td>0.0</td>\n",
       "      <td>0.000000</td>\n",
       "      <td>0.000000</td>\n",
       "      <td>0.000000</td>\n",
       "      <td>0.000000</td>\n",
       "      <td>0.000000</td>\n",
       "      <td>...</td>\n",
       "      <td>0.000000</td>\n",
       "      <td>0.000000</td>\n",
       "      <td>0.000000</td>\n",
       "      <td>0.000000</td>\n",
       "      <td>0.000000</td>\n",
       "      <td>0.000000</td>\n",
       "      <td>0.000000</td>\n",
       "      <td>0.000000</td>\n",
       "      <td>0.000000</td>\n",
       "      <td>0.000000</td>\n",
       "    </tr>\n",
       "    <tr>\n",
       "      <th>25%</th>\n",
       "      <td>0.500000</td>\n",
       "      <td>0.000000</td>\n",
       "      <td>0.000000</td>\n",
       "      <td>0.000000</td>\n",
       "      <td>0.0</td>\n",
       "      <td>0.000000</td>\n",
       "      <td>0.000000</td>\n",
       "      <td>0.000000</td>\n",
       "      <td>0.000000</td>\n",
       "      <td>0.000000</td>\n",
       "      <td>...</td>\n",
       "      <td>0.000000</td>\n",
       "      <td>0.000000</td>\n",
       "      <td>0.000000</td>\n",
       "      <td>0.000000</td>\n",
       "      <td>0.000000</td>\n",
       "      <td>0.000000</td>\n",
       "      <td>0.000000</td>\n",
       "      <td>0.000000</td>\n",
       "      <td>0.000000</td>\n",
       "      <td>0.000000</td>\n",
       "    </tr>\n",
       "    <tr>\n",
       "      <th>50%</th>\n",
       "      <td>0.771027</td>\n",
       "      <td>1.000000</td>\n",
       "      <td>0.000000</td>\n",
       "      <td>0.000000</td>\n",
       "      <td>0.0</td>\n",
       "      <td>1.000000</td>\n",
       "      <td>0.000000</td>\n",
       "      <td>0.000000</td>\n",
       "      <td>0.000000</td>\n",
       "      <td>1.000000</td>\n",
       "      <td>...</td>\n",
       "      <td>0.000000</td>\n",
       "      <td>0.000000</td>\n",
       "      <td>0.000000</td>\n",
       "      <td>0.000000</td>\n",
       "      <td>0.000000</td>\n",
       "      <td>0.000000</td>\n",
       "      <td>0.000000</td>\n",
       "      <td>0.000000</td>\n",
       "      <td>1.000000</td>\n",
       "      <td>0.000000</td>\n",
       "    </tr>\n",
       "    <tr>\n",
       "      <th>75%</th>\n",
       "      <td>1.000000</td>\n",
       "      <td>1.000000</td>\n",
       "      <td>1.000000</td>\n",
       "      <td>1.000000</td>\n",
       "      <td>0.0</td>\n",
       "      <td>1.000000</td>\n",
       "      <td>0.000000</td>\n",
       "      <td>0.000000</td>\n",
       "      <td>0.000000</td>\n",
       "      <td>1.000000</td>\n",
       "      <td>...</td>\n",
       "      <td>1.000000</td>\n",
       "      <td>1.000000</td>\n",
       "      <td>0.000000</td>\n",
       "      <td>0.000000</td>\n",
       "      <td>0.000000</td>\n",
       "      <td>0.000000</td>\n",
       "      <td>0.000000</td>\n",
       "      <td>0.000000</td>\n",
       "      <td>1.000000</td>\n",
       "      <td>0.000000</td>\n",
       "    </tr>\n",
       "    <tr>\n",
       "      <th>max</th>\n",
       "      <td>1.000000</td>\n",
       "      <td>1.000000</td>\n",
       "      <td>1.000000</td>\n",
       "      <td>1.000000</td>\n",
       "      <td>0.0</td>\n",
       "      <td>1.000000</td>\n",
       "      <td>1.000000</td>\n",
       "      <td>1.000000</td>\n",
       "      <td>1.000000</td>\n",
       "      <td>1.000000</td>\n",
       "      <td>...</td>\n",
       "      <td>1.000000</td>\n",
       "      <td>1.000000</td>\n",
       "      <td>1.000000</td>\n",
       "      <td>1.000000</td>\n",
       "      <td>1.000000</td>\n",
       "      <td>1.000000</td>\n",
       "      <td>1.000000</td>\n",
       "      <td>1.000000</td>\n",
       "      <td>1.000000</td>\n",
       "      <td>1.000000</td>\n",
       "    </tr>\n",
       "  </tbody>\n",
       "</table>\n",
       "<p>8 rows × 81 columns</p>\n",
       "</div>"
      ],
      "text/plain": [
       "                0            1            2            3       4   \\\n",
       "count  9513.000000  9513.000000  9513.000000  9513.000000  9513.0   \n",
       "mean      0.668803     0.578261     0.464207     0.388311     0.0   \n",
       "std       0.376278     0.493863     0.498743     0.487392     0.0   \n",
       "min       0.000000     0.000000     0.000000     0.000000     0.0   \n",
       "25%       0.500000     0.000000     0.000000     0.000000     0.0   \n",
       "50%       0.771027     1.000000     0.000000     0.000000     0.0   \n",
       "75%       1.000000     1.000000     1.000000     1.000000     0.0   \n",
       "max       1.000000     1.000000     1.000000     1.000000     0.0   \n",
       "\n",
       "                5            6            7            8            9   ...  \\\n",
       "count  9513.000000  9513.000000  9513.000000  9513.000000  9513.000000  ...   \n",
       "mean      0.583622     0.114054     0.202775     0.241880     0.521392  ...   \n",
       "std       0.492984     0.317894     0.402088     0.428244     0.499568  ...   \n",
       "min       0.000000     0.000000     0.000000     0.000000     0.000000  ...   \n",
       "25%       0.000000     0.000000     0.000000     0.000000     0.000000  ...   \n",
       "50%       1.000000     0.000000     0.000000     0.000000     1.000000  ...   \n",
       "75%       1.000000     0.000000     0.000000     0.000000     1.000000  ...   \n",
       "max       1.000000     1.000000     1.000000     1.000000     1.000000  ...   \n",
       "\n",
       "                71           72           73           74           75  \\\n",
       "count  9513.000000  9513.000000  9513.000000  9513.000000  9513.000000   \n",
       "mean      0.460212     0.268264     0.097340     0.157048     0.017134   \n",
       "std       0.498441     0.443079     0.296436     0.363865     0.129779   \n",
       "min       0.000000     0.000000     0.000000     0.000000     0.000000   \n",
       "25%       0.000000     0.000000     0.000000     0.000000     0.000000   \n",
       "50%       0.000000     0.000000     0.000000     0.000000     0.000000   \n",
       "75%       1.000000     1.000000     0.000000     0.000000     0.000000   \n",
       "max       1.000000     1.000000     1.000000     1.000000     1.000000   \n",
       "\n",
       "                76           77           78           79           80  \n",
       "count  9513.000000  9513.000000  9513.000000  9513.000000  9513.000000  \n",
       "mean      0.246084     0.055923     0.020183     0.519184     0.158625  \n",
       "std       0.430751     0.229786     0.140633     0.499658     0.365345  \n",
       "min       0.000000     0.000000     0.000000     0.000000     0.000000  \n",
       "25%       0.000000     0.000000     0.000000     0.000000     0.000000  \n",
       "50%       0.000000     0.000000     0.000000     1.000000     0.000000  \n",
       "75%       0.000000     0.000000     0.000000     1.000000     0.000000  \n",
       "max       1.000000     1.000000     1.000000     1.000000     1.000000  \n",
       "\n",
       "[8 rows x 81 columns]"
      ]
     },
     "execution_count": 53,
     "metadata": {},
     "output_type": "execute_result"
    }
   ],
   "source": [
    "from sklearn.preprocessing import MinMaxScaler\n",
    "scaler = MinMaxScaler()\n",
    "\n",
    "X_train = scaler.fit_transform(X_train)\n",
    "X_test = scaler.transform(X_test)\n",
    "pd.DataFrame(X_train).describe()"
   ]
  },
  {
   "cell_type": "markdown",
   "id": "dd6ac8ec",
   "metadata": {},
   "source": [
    "K Neighbours Classifier\n",
    "The k-neighbors classification in KNeighborsClassifier is the most commonly used technique. The optimal choice of the value k is highly data-dependent: in general a larger k suppresses the effects of noise, but makes the classification boundaries less distinct.\n",
    "\n",
    "We can observe from the graph that the optimal value of k where both train and test score become constant is around 5.\n",
    "\n",
    "So the value of train score and test at value of k=5 is 79.09 and 67.61 respectively."
   ]
  },
  {
   "cell_type": "code",
   "execution_count": 54,
   "id": "9ae3de16",
   "metadata": {},
   "outputs": [],
   "source": [
    "from sklearn.neighbors import KNeighborsClassifier\n",
    "\n",
    "train_score_array = []\n",
    "test_score_array = []\n",
    "\n",
    "for k in range(1,10):\n",
    "    knn = KNeighborsClassifier(k)\n",
    "    knn.fit(X_train, y_train)\n",
    "    train_score_array.append(knn.score(X_train, y_train))\n",
    "    test_score_array.append(knn.score(X_test, y_test))"
   ]
  },
  {
   "cell_type": "code",
   "execution_count": 55,
   "id": "9503ff75",
   "metadata": {},
   "outputs": [
    {
     "ename": "ValueError",
     "evalue": "The number of FixedLocator locations (9), usually from a call to set_ticks, does not match the number of ticklabels (10).",
     "output_type": "error",
     "traceback": [
      "\u001b[1;31m---------------------------------------------------------------------------\u001b[0m",
      "\u001b[1;31mValueError\u001b[0m                                Traceback (most recent call last)",
      "\u001b[1;32m<ipython-input-55-7e533c7bb480>\u001b[0m in \u001b[0;36m<module>\u001b[1;34m\u001b[0m\n\u001b[0;32m      7\u001b[0m \u001b[0mplt\u001b[0m\u001b[1;33m.\u001b[0m\u001b[0mxlabel\u001b[0m\u001b[1;33m(\u001b[0m\u001b[1;34m'n_neighbors'\u001b[0m\u001b[1;33m)\u001b[0m\u001b[1;33m\u001b[0m\u001b[1;33m\u001b[0m\u001b[0m\n\u001b[0;32m      8\u001b[0m \u001b[0mplt\u001b[0m\u001b[1;33m.\u001b[0m\u001b[0mylabel\u001b[0m\u001b[1;33m(\u001b[0m\u001b[1;34m'Accuracy'\u001b[0m\u001b[1;33m)\u001b[0m\u001b[1;33m\u001b[0m\u001b[1;33m\u001b[0m\u001b[0m\n\u001b[1;32m----> 9\u001b[1;33m \u001b[0mplt\u001b[0m\u001b[1;33m.\u001b[0m\u001b[0mxticks\u001b[0m\u001b[1;33m(\u001b[0m\u001b[0mx_axis\u001b[0m\u001b[1;33m,\u001b[0m \u001b[0mnp\u001b[0m\u001b[1;33m.\u001b[0m\u001b[0marange\u001b[0m\u001b[1;33m(\u001b[0m\u001b[1;36m10\u001b[0m\u001b[1;33m)\u001b[0m\u001b[1;33m)\u001b[0m\u001b[1;33m\u001b[0m\u001b[1;33m\u001b[0m\u001b[0m\n\u001b[0m\u001b[0;32m     10\u001b[0m \u001b[0mplt\u001b[0m\u001b[1;33m.\u001b[0m\u001b[0mgrid\u001b[0m\u001b[1;33m(\u001b[0m\u001b[1;33m)\u001b[0m\u001b[1;33m\u001b[0m\u001b[1;33m\u001b[0m\u001b[0m\n\u001b[0;32m     11\u001b[0m \u001b[0mplt\u001b[0m\u001b[1;33m.\u001b[0m\u001b[0mlegend\u001b[0m\u001b[1;33m(\u001b[0m\u001b[1;33m)\u001b[0m\u001b[1;33m\u001b[0m\u001b[1;33m\u001b[0m\u001b[0m\n",
      "\u001b[1;32m~\\anaconda3\\lib\\site-packages\\matplotlib\\pyplot.py\u001b[0m in \u001b[0;36mxticks\u001b[1;34m(ticks, labels, **kwargs)\u001b[0m\n\u001b[0;32m   1657\u001b[0m         \u001b[0mlabels\u001b[0m \u001b[1;33m=\u001b[0m \u001b[0max\u001b[0m\u001b[1;33m.\u001b[0m\u001b[0mget_xticklabels\u001b[0m\u001b[1;33m(\u001b[0m\u001b[1;33m)\u001b[0m\u001b[1;33m\u001b[0m\u001b[1;33m\u001b[0m\u001b[0m\n\u001b[0;32m   1658\u001b[0m     \u001b[1;32melse\u001b[0m\u001b[1;33m:\u001b[0m\u001b[1;33m\u001b[0m\u001b[1;33m\u001b[0m\u001b[0m\n\u001b[1;32m-> 1659\u001b[1;33m         \u001b[0mlabels\u001b[0m \u001b[1;33m=\u001b[0m \u001b[0max\u001b[0m\u001b[1;33m.\u001b[0m\u001b[0mset_xticklabels\u001b[0m\u001b[1;33m(\u001b[0m\u001b[0mlabels\u001b[0m\u001b[1;33m,\u001b[0m \u001b[1;33m**\u001b[0m\u001b[0mkwargs\u001b[0m\u001b[1;33m)\u001b[0m\u001b[1;33m\u001b[0m\u001b[1;33m\u001b[0m\u001b[0m\n\u001b[0m\u001b[0;32m   1660\u001b[0m     \u001b[1;32mfor\u001b[0m \u001b[0ml\u001b[0m \u001b[1;32min\u001b[0m \u001b[0mlabels\u001b[0m\u001b[1;33m:\u001b[0m\u001b[1;33m\u001b[0m\u001b[1;33m\u001b[0m\u001b[0m\n\u001b[0;32m   1661\u001b[0m         \u001b[0ml\u001b[0m\u001b[1;33m.\u001b[0m\u001b[0mupdate\u001b[0m\u001b[1;33m(\u001b[0m\u001b[0mkwargs\u001b[0m\u001b[1;33m)\u001b[0m\u001b[1;33m\u001b[0m\u001b[1;33m\u001b[0m\u001b[0m\n",
      "\u001b[1;32m~\\anaconda3\\lib\\site-packages\\matplotlib\\axes\\_base.py\u001b[0m in \u001b[0;36mwrapper\u001b[1;34m(self, *args, **kwargs)\u001b[0m\n\u001b[0;32m     61\u001b[0m \u001b[1;33m\u001b[0m\u001b[0m\n\u001b[0;32m     62\u001b[0m         \u001b[1;32mdef\u001b[0m \u001b[0mwrapper\u001b[0m\u001b[1;33m(\u001b[0m\u001b[0mself\u001b[0m\u001b[1;33m,\u001b[0m \u001b[1;33m*\u001b[0m\u001b[0margs\u001b[0m\u001b[1;33m,\u001b[0m \u001b[1;33m**\u001b[0m\u001b[0mkwargs\u001b[0m\u001b[1;33m)\u001b[0m\u001b[1;33m:\u001b[0m\u001b[1;33m\u001b[0m\u001b[1;33m\u001b[0m\u001b[0m\n\u001b[1;32m---> 63\u001b[1;33m             \u001b[1;32mreturn\u001b[0m \u001b[0mget_method\u001b[0m\u001b[1;33m(\u001b[0m\u001b[0mself\u001b[0m\u001b[1;33m)\u001b[0m\u001b[1;33m(\u001b[0m\u001b[1;33m*\u001b[0m\u001b[0margs\u001b[0m\u001b[1;33m,\u001b[0m \u001b[1;33m**\u001b[0m\u001b[0mkwargs\u001b[0m\u001b[1;33m)\u001b[0m\u001b[1;33m\u001b[0m\u001b[1;33m\u001b[0m\u001b[0m\n\u001b[0m\u001b[0;32m     64\u001b[0m \u001b[1;33m\u001b[0m\u001b[0m\n\u001b[0;32m     65\u001b[0m         \u001b[0mwrapper\u001b[0m\u001b[1;33m.\u001b[0m\u001b[0m__module__\u001b[0m \u001b[1;33m=\u001b[0m \u001b[0mowner\u001b[0m\u001b[1;33m.\u001b[0m\u001b[0m__module__\u001b[0m\u001b[1;33m\u001b[0m\u001b[1;33m\u001b[0m\u001b[0m\n",
      "\u001b[1;32m~\\anaconda3\\lib\\site-packages\\matplotlib\\cbook\\deprecation.py\u001b[0m in \u001b[0;36mwrapper\u001b[1;34m(*args, **kwargs)\u001b[0m\n\u001b[0;32m    449\u001b[0m                 \u001b[1;34m\"parameter will become keyword-only %(removal)s.\"\u001b[0m\u001b[1;33m,\u001b[0m\u001b[1;33m\u001b[0m\u001b[1;33m\u001b[0m\u001b[0m\n\u001b[0;32m    450\u001b[0m                 name=name, obj_type=f\"parameter of {func.__name__}()\")\n\u001b[1;32m--> 451\u001b[1;33m         \u001b[1;32mreturn\u001b[0m \u001b[0mfunc\u001b[0m\u001b[1;33m(\u001b[0m\u001b[1;33m*\u001b[0m\u001b[0margs\u001b[0m\u001b[1;33m,\u001b[0m \u001b[1;33m**\u001b[0m\u001b[0mkwargs\u001b[0m\u001b[1;33m)\u001b[0m\u001b[1;33m\u001b[0m\u001b[1;33m\u001b[0m\u001b[0m\n\u001b[0m\u001b[0;32m    452\u001b[0m \u001b[1;33m\u001b[0m\u001b[0m\n\u001b[0;32m    453\u001b[0m     \u001b[1;32mreturn\u001b[0m \u001b[0mwrapper\u001b[0m\u001b[1;33m\u001b[0m\u001b[1;33m\u001b[0m\u001b[0m\n",
      "\u001b[1;32m~\\anaconda3\\lib\\site-packages\\matplotlib\\axis.py\u001b[0m in \u001b[0;36m_set_ticklabels\u001b[1;34m(self, labels, fontdict, minor, **kwargs)\u001b[0m\n\u001b[0;32m   1794\u001b[0m         \u001b[1;32mif\u001b[0m \u001b[0mfontdict\u001b[0m \u001b[1;32mis\u001b[0m \u001b[1;32mnot\u001b[0m \u001b[1;32mNone\u001b[0m\u001b[1;33m:\u001b[0m\u001b[1;33m\u001b[0m\u001b[1;33m\u001b[0m\u001b[0m\n\u001b[0;32m   1795\u001b[0m             \u001b[0mkwargs\u001b[0m\u001b[1;33m.\u001b[0m\u001b[0mupdate\u001b[0m\u001b[1;33m(\u001b[0m\u001b[0mfontdict\u001b[0m\u001b[1;33m)\u001b[0m\u001b[1;33m\u001b[0m\u001b[1;33m\u001b[0m\u001b[0m\n\u001b[1;32m-> 1796\u001b[1;33m         \u001b[1;32mreturn\u001b[0m \u001b[0mself\u001b[0m\u001b[1;33m.\u001b[0m\u001b[0mset_ticklabels\u001b[0m\u001b[1;33m(\u001b[0m\u001b[0mlabels\u001b[0m\u001b[1;33m,\u001b[0m \u001b[0mminor\u001b[0m\u001b[1;33m=\u001b[0m\u001b[0mminor\u001b[0m\u001b[1;33m,\u001b[0m \u001b[1;33m**\u001b[0m\u001b[0mkwargs\u001b[0m\u001b[1;33m)\u001b[0m\u001b[1;33m\u001b[0m\u001b[1;33m\u001b[0m\u001b[0m\n\u001b[0m\u001b[0;32m   1797\u001b[0m \u001b[1;33m\u001b[0m\u001b[0m\n\u001b[0;32m   1798\u001b[0m     \u001b[1;33m@\u001b[0m\u001b[0mcbook\u001b[0m\u001b[1;33m.\u001b[0m\u001b[0m_make_keyword_only\u001b[0m\u001b[1;33m(\u001b[0m\u001b[1;34m\"3.2\"\u001b[0m\u001b[1;33m,\u001b[0m \u001b[1;34m\"minor\"\u001b[0m\u001b[1;33m)\u001b[0m\u001b[1;33m\u001b[0m\u001b[1;33m\u001b[0m\u001b[0m\n",
      "\u001b[1;32m~\\anaconda3\\lib\\site-packages\\matplotlib\\axis.py\u001b[0m in \u001b[0;36mset_ticklabels\u001b[1;34m(self, ticklabels, minor, **kwargs)\u001b[0m\n\u001b[0;32m   1715\u001b[0m             \u001b[1;31m# remove all tick labels, so only error for > 0 ticklabels\u001b[0m\u001b[1;33m\u001b[0m\u001b[1;33m\u001b[0m\u001b[1;33m\u001b[0m\u001b[0m\n\u001b[0;32m   1716\u001b[0m             \u001b[1;32mif\u001b[0m \u001b[0mlen\u001b[0m\u001b[1;33m(\u001b[0m\u001b[0mlocator\u001b[0m\u001b[1;33m.\u001b[0m\u001b[0mlocs\u001b[0m\u001b[1;33m)\u001b[0m \u001b[1;33m!=\u001b[0m \u001b[0mlen\u001b[0m\u001b[1;33m(\u001b[0m\u001b[0mticklabels\u001b[0m\u001b[1;33m)\u001b[0m \u001b[1;32mand\u001b[0m \u001b[0mlen\u001b[0m\u001b[1;33m(\u001b[0m\u001b[0mticklabels\u001b[0m\u001b[1;33m)\u001b[0m \u001b[1;33m!=\u001b[0m \u001b[1;36m0\u001b[0m\u001b[1;33m:\u001b[0m\u001b[1;33m\u001b[0m\u001b[1;33m\u001b[0m\u001b[0m\n\u001b[1;32m-> 1717\u001b[1;33m                 raise ValueError(\n\u001b[0m\u001b[0;32m   1718\u001b[0m                     \u001b[1;34m\"The number of FixedLocator locations\"\u001b[0m\u001b[1;33m\u001b[0m\u001b[1;33m\u001b[0m\u001b[0m\n\u001b[0;32m   1719\u001b[0m                     \u001b[1;34mf\" ({len(locator.locs)}), usually from a call to\"\u001b[0m\u001b[1;33m\u001b[0m\u001b[1;33m\u001b[0m\u001b[0m\n",
      "\u001b[1;31mValueError\u001b[0m: The number of FixedLocator locations (9), usually from a call to set_ticks, does not match the number of ticklabels (10)."
     ]
    },
    {
     "data": {
      "image/png": "[encoded data removed]",
      "text/plain": [
       "<Figure size 1440x360 with 1 Axes>"
      ]
     },
     "metadata": {
      "needs_background": "light"
     },
     "output_type": "display_data"
    }
   ],
   "source": [
    "x_axis = range(1,10)\n",
    "%matplotlib inline\n",
    "\n",
    "plt.subplots(figsize = (20,5))\n",
    "plt.plot(x_axis, train_score_array, label = 'Train Score', c = 'g')\n",
    "plt.plot(x_axis, test_score_array, label = 'Test Score', c='b')\n",
    "plt.xlabel('n_neighbors')\n",
    "plt.ylabel('Accuracy')\n",
    "plt.xticks(x_axis, np.arange(10))\n",
    "plt.grid()\n",
    "plt.legend()"
   ]
  },
  {
   "cell_type": "code",
   "execution_count": null,
   "id": "ad300ea0",
   "metadata": {},
   "outputs": [],
   "source": [
    "knn = KNeighborsClassifier(5)\n",
    "knn.fit(X_train, y_train)\n",
    "print('Train score: {:.4f}'.format(knn.score(X_train, y_train)))\n",
    "print('Test score: {:.4f}'.format(knn.score(X_test, y_test)))"
   ]
  },
  {
   "cell_type": "code",
   "execution_count": null,
   "id": "65de1c92",
   "metadata": {},
   "outputs": [],
   "source": [
    "X.info()"
   ]
  },
  {
   "cell_type": "code",
   "execution_count": null,
   "id": "00fb3b85",
   "metadata": {},
   "outputs": [],
   "source": [
    "%matplotlib inline\n",
    "\n",
    "from mlxtend.plotting import plot_decision_regions\n",
    "\n",
    "fig = plt.figure(figsize=(10, 10))\n",
    "plt.xlim(0, 1)\n",
    "plt.ylim(0,0.8)\n",
    "X_b = X_train[:1000,[2,0]]\n",
    "y_b = np.array(y_train[:1000])\n",
    "\n",
    "knn = KNeighborsClassifier(5)\n",
    "knn.fit(X_b, y_b) \n",
    "\n",
    "plot_decision_regions(X_b, y_b, clf = knn, zoom_factor = 3)\n",
    "plt.xlabel('gender')\n",
    "plt.ylabel('temperature')"
   ]
  },
  {
   "cell_type": "markdown",
   "id": "e8a354e6",
   "metadata": {},
   "source": [
    "# Logistic Regression\n",
    "We used different combination of the hyperparameter's C , penalty function and solver to arrive at an optimum point.\n",
    "\n",
    "It could be seen from the plot below that for the value of C at 0.01 there is a knee bend and after the scores begin to e constant. And for penalty function l2 it shows a better model as the difference between train and test score is less."
   ]
  },
  {
   "cell_type": "code",
   "execution_count": null,
   "id": "25146f08",
   "metadata": {},
   "outputs": [],
   "source": [
    "from sklearn.linear_model import LogisticRegression\n",
    "\n",
    "c_range = [0.001, 0.01, 0.1, 1, 10, 100, 1000]\n",
    "train_score_l1 = []\n",
    "train_score_l2 = []\n",
    "test_score_l1 = []\n",
    "test_score_l2 = []\n",
    "\n",
    "for c in c_range:\n",
    "    log_l1 = LogisticRegression(penalty = 'l1', C = c, solver = 'liblinear', max_iter = 500)\n",
    "    log_l2 = LogisticRegression(penalty = 'l2', C = c, solver = 'lbfgs', max_iter = 500)\n",
    "    log_l1.fit(X_train, y_train)\n",
    "    log_l2.fit(X_train, y_train)\n",
    "    train_score_l1.append(log_l1.score(X_train, y_train))\n",
    "    train_score_l2.append(log_l2.score(X_train, y_train))\n",
    "    test_score_l1.append(log_l1.score(X_test, y_test))\n",
    "    test_score_l2.append(log_l2.score(X_test, y_test))"
   ]
  },
  {
   "cell_type": "code",
   "execution_count": null,
   "id": "00dbb0a0",
   "metadata": {},
   "outputs": [],
   "source": [
    "import matplotlib.pyplot as plt\n",
    "%matplotlib inline\n",
    "\n",
    "plt.subplots(figsize = (20,5))\n",
    "plt.plot(c_range, train_score_l1, label = 'Train score, penalty = l1')\n",
    "plt.plot(c_range, test_score_l1, label = 'Test score, penalty = l1')\n",
    "plt.plot(c_range, train_score_l2, label = 'Train score, penalty = l2')\n",
    "plt.plot(c_range, test_score_l2, label = 'Test score, penalty = l2')\n",
    "plt.legend()\n",
    "plt.xlabel('Regularization parameter: C')\n",
    "plt.ylabel('Accuracy')\n",
    "plt.xscale('log')"
   ]
  },
  {
   "cell_type": "code",
   "execution_count": null,
   "id": "5be9669d",
   "metadata": {},
   "outputs": [],
   "source": [
    "%matplotlib inline\n",
    "\n",
    "from mlxtend.plotting import plot_decision_regions\n",
    "\n",
    "X_b = X_train[200:, [7,23]]\n",
    "y_b = y_train[200:]\n",
    "\n",
    "lreg = LogisticRegression(C = 0.01, penalty = 'l2')\n",
    "lreg.fit(X_b, y_b)"
   ]
  },
  {
   "cell_type": "code",
   "execution_count": null,
   "id": "633fa32b",
   "metadata": {},
   "outputs": [],
   "source": [
    "import matplotlib \n",
    "import numpy as np\n",
    "\n",
    "cmap = matplotlib.colors.LinearSegmentedColormap.from_list(\"\", [\"dodgerblue\", \"darkorange\"])    \n",
    "\n",
    "plt.subplots(figsize = (10,10))\n",
    "xaxis = np.linspace(0,1, 100)\n",
    "plt.scatter(X_b[:,0], X_b[:,1], c = y_b, cmap= cmap, s = 50, edgecolor = 'k')\n",
    "\n",
    "\n",
    "x1_min, x1_max = X_b[:, 0].min()-1, X_b[:, 0].max() + 1\n",
    "x2_min, x2_max = X_b[:, 1].min()-1, X_b[:, 1].max() + 1\n",
    "xx1, xx2 = np.meshgrid(np.arange(x1_min, x1_max, 0.001), np.arange(x2_min, x2_max, 0.001))\n",
    "Z = lreg.predict(np.array([xx1.ravel(), xx2.ravel()]).T)\n",
    "Z = Z.reshape(xx1.shape)\n",
    "plt.contourf(xx1, xx2, Z, levels = 1, alpha = 0.4, cmap=cmap)\n",
    "plt.xlim(-0.1,1)\n",
    "plt.ylim(-0.1,1)\n",
    "plt.xlabel('gender')\n",
    "plt.ylabel('temperature')"
   ]
  },
  {
   "cell_type": "code",
   "execution_count": null,
   "id": "39fb7852",
   "metadata": {},
   "outputs": [],
   "source": [
    "import matplotlib \n",
    "\n",
    "cmap = matplotlib.colors.LinearSegmentedColormap.from_list(\"\", [\"dodgerblue\", \"darkorange\"])    \n",
    "\n",
    "plt.subplots(figsize = (20,10))\n",
    "xaxis = np.linspace(0,1, 100)\n",
    "\n",
    "plt.subplot(1,2,1)\n",
    "plt.scatter(X_b[:,0], X_b[:,1], c = y_b, cmap= cmap, s = 50, edgecolor = 'k')\n",
    "x1_min, x1_max = X_b[:, 0].min()-1, X_b[:, 0].max() + 1\n",
    "x2_min, x2_max = X_b[:, 1].min()-1, X_b[:, 1].max() + 1\n",
    "xx1, xx2 = np.meshgrid(np.arange(x1_min, x1_max, 0.001), np.arange(x2_min, x2_max, 0.001))\n",
    "Z = lreg.predict(np.array([xx1.ravel(), xx2.ravel()]).T)\n",
    "Z = Z.reshape(xx1.shape)\n",
    "plt.contourf(xx1, xx2, Z, levels = 1, alpha = 0.4, cmap=cmap)\n",
    "plt.xlim(-0.1,1)\n",
    "plt.ylim(-0.1,1)\n",
    "plt.xlabel('gender')\n",
    "plt.ylabel('temperature')\n",
    "plt.title('Logistic Regression')\n",
    "\n",
    "plt.subplot(1,2,2)\n",
    "plt.scatter(X_b[:,0], X_b[:,1], c = y_b, cmap= cmap, s = 50, edgecolor = 'k')\n",
    "x1_min, x1_max = X_b[:, 0].min()-1, X_b[:, 0].max() + 1\n",
    "x2_min, x2_max = X_b[:, 1].min()-1, X_b[:, 1].max() + 1\n",
    "xx1, xx2 = np.meshgrid(np.arange(x1_min, x1_max, 0.001), np.arange(x2_min, x2_max, 0.001))\n",
    "Z = lreg.predict_proba(np.array([xx1.ravel(), xx2.ravel()]).T)[:,1]\n",
    "Z = Z.reshape(xx1.shape)\n",
    "Z = np.where(Z <= 0.6, 0, 1)\n",
    "plt.contourf(xx1, xx2, Z, levels = 1, alpha = 0.4, cmap=cmap)\n",
    "plt.xlim(-0.1,1)\n",
    "plt.ylim(-0.1,1)\n",
    "plt.xlabel('gender')\n",
    "plt.ylabel('temperature')\n",
    "plt.title('Logistic Regression with post-preocessing of results')"
   ]
  },
  {
   "cell_type": "markdown",
   "id": "bf4ef3f8",
   "metadata": {},
   "source": [
    "# LinearSVC\n",
    "1. Firstly we checked the affect of coef0 on the model , and we could see that when coef0 = 1 , the model predicts more accurately.\n",
    "2. Then we checked the affect of different kernels (Linear SVC, SVC with linear kernel, SVC with rbf kernel and SVC with polynomial degree 3 kernel). It could be seen that kernel does have an affect and rbf kernel explains the behavior in dataset most accurately.\n",
    "3. Next we saw the affect of hyperparameter C on the model ,it could be observerd that as we increase the value of C the curve fiits better.\n",
    "4. Lastly we saw the affect of hyperparameter gamma on the model ,it could be observerd that as we increase the value of gamma the curve fits better."
   ]
  },
  {
   "cell_type": "code",
   "execution_count": null,
   "id": "1e9e3616",
   "metadata": {},
   "outputs": [],
   "source": [
    "%matplotlib inline\n",
    "\n",
    "from mlxtend.plotting import plot_decision_regions\n",
    "from sklearn.datasets import load_iris\n",
    "from sklearn.svm import LinearSVC"
   ]
  },
  {
   "cell_type": "code",
   "execution_count": null,
   "id": "c486d890",
   "metadata": {},
   "outputs": [],
   "source": [
    "from sklearn.datasets import make_moons\n",
    "from sklearn.svm import SVC\n",
    "from mlxtend.plotting import plot_decision_regions\n",
    "import matplotlib.gridspec as gridspec\n",
    "import itertools\n",
    "gs = gridspec.GridSpec(1, 2)\n",
    "\n",
    "data = make_moons(n_samples= 100, noise = 0.3, random_state = 0)\n",
    "X = data[0]\n",
    "y = data[1]\n",
    "\n",
    "clf1 = SVC(kernel = 'poly', degree = 3, C = 5, coef0=1)\n",
    "clf1.fit(X,y)\n",
    "\n",
    "clf2 = SVC(kernel = 'poly', degree = 3, C = 5, coef0=0)\n",
    "clf2.fit(X,y)\n",
    "\n",
    "fig = plt.figure(figsize=(16,8))\n",
    "\n",
    "labels = [\"kernel = 'poly', degree = 3, C = 5, coef0=1\", \"kernel = 'poly', degree = 3, C = 5, coef0=0\"]\n",
    "for clf, lab, grd in zip([clf1, clf2],\n",
    "                         labels,\n",
    "                         itertools.product([0, 1], repeat=2)):\n",
    "\n",
    "    clf.fit(X, y)\n",
    "    ax = plt.subplot(gs[grd[0], grd[1]])\n",
    "    fig = plot_decision_regions(X=X, y=y, clf=clf, legend=2, zoom_factor=5)\n",
    "    plt.title(lab)"
   ]
  },
  {
   "cell_type": "code",
   "execution_count": null,
   "id": "02ae15df",
   "metadata": {},
   "outputs": [],
   "source": [
    "%matplotlib inline\n",
    "\n",
    "from mlxtend.plotting import plot_decision_regions\n",
    "from sklearn.datasets import load_iris\n",
    "from sklearn.model_selection import train_test_split\n",
    "from sklearn.svm import SVC, LinearSVC\n",
    "import matplotlib.gridspec as gridspec\n",
    "import itertools\n",
    "\n",
    "C = 1\n",
    "clf1 = LinearSVC(C=C)\n",
    "clf2 = SVC(kernel='linear', C=C)\n",
    "clf3 = SVC(kernel='rbf', gamma=0.7, C=C)\n",
    "clf4 = SVC(kernel='poly', degree=3, C=C)\n",
    "\n",
    "\n",
    "gs = gridspec.GridSpec(2, 2)\n",
    "fig, ax = plt.subplots(figsize=(20, 15))\n",
    "\n",
    "labels = ['LinearSVC',\n",
    "          'SVC with linear kernel',\n",
    "          'SVC with RBF kernel',\n",
    "          'SVC with polynomial (degree 3) kernel']\n",
    "\n",
    "for clf, lab, grd in zip([clf1, clf2, clf3, clf4],\n",
    "                         labels,\n",
    "                         itertools.product([0, 1],\n",
    "                         repeat=2)):\n",
    "    clf.fit(X, y)\n",
    "    ax = plt.subplot(gs[grd[0], grd[1]])\n",
    "    fig = plot_decision_regions(X=X, y=y,\n",
    "                                clf=clf, legend=2)\n",
    "    plt.title(lab)\n",
    "    handles, labels = ax.get_legend_handles_labels()\n"
   ]
  },
  {
   "cell_type": "code",
   "execution_count": null,
   "id": "923b26b2",
   "metadata": {},
   "outputs": [],
   "source": [
    "%matplotlib inline\n",
    "\n",
    "from sklearn.datasets import load_iris\n",
    "from sklearn.model_selection import train_test_split\n",
    "from sklearn.svm import SVC, LinearSVC\n",
    "\n",
    "\n",
    "C = 1\n",
    "clf1 = SVC(kernel='rbf', gamma=0.01, C=C)\n",
    "clf2 = SVC(kernel='rbf', gamma=0.1, C=C)\n",
    "clf3 = SVC(kernel='rbf', gamma=1, C=C)\n",
    "clf4 = SVC(kernel='rbf', gamma=10, C=C)\n",
    "\n",
    "\n",
    "models = (SVC(kernel='rbf', gamma=0.01, C=1),\n",
    "         SVC(kernel = 'rbf', gamma = 0.1, C = 1),\n",
    "         SVC(kernel = 'rbf', gamma = 1, C = 1),\n",
    "         SVC(kernel = 'rbf', gamma = 10, C = 1))\n",
    "\n",
    "\n",
    "gs = gridspec.GridSpec(2, 2)\n",
    "fig, ax = plt.subplots(figsize=(20, 15))\n",
    "\n",
    "labels = ['gamma = 0.01',\n",
    "          'gamma = 0.1',\n",
    "          'gamma = 1',\n",
    "          'gamma = 10']\n",
    "\n",
    "for clf, lab, grd in zip([clf1, clf2, clf3, clf4],\n",
    "                         labels,\n",
    "                         itertools.product([0, 1],\n",
    "                         repeat=2)):\n",
    "    clf.fit(X, y)\n",
    "    ax = plt.subplot(gs[grd[0], grd[1]])\n",
    "    fig = plot_decision_regions(X=X, y=y,\n",
    "                                clf=clf, legend=2)\n",
    "    plt.title(lab)\n",
    "    handles, labels = ax.get_legend_handles_labels()"
   ]
  },
  {
   "cell_type": "code",
   "execution_count": null,
   "id": "7c69396e",
   "metadata": {},
   "outputs": [],
   "source": [
    "%matplotlib inline\n",
    "\n",
    "from sklearn.datasets import load_iris\n",
    "from sklearn.model_selection import train_test_split\n",
    "from sklearn.svm import SVC, LinearSVC\n",
    "\n",
    "gamma = 0.7\n",
    "clf1 = SVC(kernel='rbf', gamma=gamma, C=0.01)\n",
    "clf2 = SVC(kernel='rbf', gamma=gamma, C=1)\n",
    "clf3 = SVC(kernel='rbf', gamma=gamma, C=10)\n",
    "clf4 = SVC(kernel='rbf', gamma=gamma, C=1000)\n",
    "\n",
    "gs = gridspec.GridSpec(2, 2)\n",
    "fig = plt.figure(figsize=(20, 15))\n",
    "\n",
    "labels = ['C = 0.01',\n",
    "          'C = 1',\n",
    "          'C = 10',\n",
    "          'C = 1000']\n",
    "\n",
    "for clf, lab, grd in zip([clf1, clf2, clf3, clf4],\n",
    "                         labels,\n",
    "                         itertools.product([0, 1],\n",
    "                         repeat=2)):\n",
    "    clf.fit(X, y)\n",
    "    ax = plt.subplot(gs[grd[0], grd[1]])\n",
    "    fig = plot_decision_regions(X=X, y=y,\n",
    "                                clf=clf, legend=2)\n",
    "    plt.title(lab)\n",
    "    handles, labels = ax.get_legend_handles_labels()"
   ]
  },
  {
   "cell_type": "markdown",
   "id": "c4d2f1ef",
   "metadata": {},
   "source": [
    "# Decision Tree Classifier\n",
    "We can observe that a default Decision Tree creates a model that has a very high train score of 0.99. So we adjust it by providing the value of max_depth = 5 , which provides us a better model with train score and test score of 0.666 , 0.663 respectively."
   ]
  },
  {
   "cell_type": "code",
   "execution_count": null,
   "id": "b34a8958",
   "metadata": {},
   "outputs": [],
   "source": [
    "%matplotlib notebook\n",
    "from sklearn.tree import DecisionTreeClassifier\n",
    "from sklearn.model_selection import train_test_split\n",
    "\n",
    "dtree = DecisionTreeClassifier(random_state=0)\n",
    "\n",
    "dtree.fit(X_train, y_train)\n",
    "print(\"Accuracy on training set: {:.3f}\".format(dtree.score(X_train, y_train)))\n",
    "print(\"Accuracy on test set: {:.3f}\".format(dtree.score(X_test, y_test)))"
   ]
  },
  {
   "cell_type": "code",
   "execution_count": null,
   "id": "8dbc63a7",
   "metadata": {},
   "outputs": [],
   "source": [
    "dtree = DecisionTreeClassifier(max_depth=5, random_state=0)\n",
    "dtree.fit(X_train, y_train)\n",
    "\n",
    "print(\"Accuracy on training set: {:.3f}\".format(dtree.score(X_train, y_train)))\n",
    "print(\"Accuracy on test set: {:.3f}\".format(dtree.score(X_test, y_test)))"
   ]
  },
  {
   "cell_type": "code",
   "execution_count": null,
   "id": "e441b294",
   "metadata": {},
   "outputs": [],
   "source": [
    "import matplotlib.pyplot as plt\n",
    "import numpy as np"
   ]
  },
  {
   "cell_type": "markdown",
   "id": "207cc240",
   "metadata": {},
   "source": [
    "Based on the Decision Tree model above , we try to find the importance of features and we could see that the features of higher importance are:\n",
    "\n",
    "1.CoffeeHouse_less1\n",
    "2.Coupon_Restaurant(20-50)\n",
    "3.Coupon_Bar\n",
    "4.passanger_Alone\n",
    "5.toCoupon_GEQ25min\n",
    "6.expiration"
   ]
  },
  {
   "cell_type": "code",
   "execution_count": null,
   "id": "c769f2cd",
   "metadata": {},
   "outputs": [],
   "source": [
    "%matplotlib inline\n",
    "\n",
    "def plot_feature_importances_cancer(model):\n",
    "    fig, ax = plt.subplots(figsize=(19, 17))\n",
    "    n_features = 81\n",
    "    plt.barh(range(n_features), model.feature_importances_, align='center')\n",
    "    plt.yticks(np.arange(n_features), df.columns)\n",
    "    plt.xlabel(\"Feature importance\")\n",
    "    plt.ylabel(\"Feature\")\n",
    "    plt.ylim(-1, n_features)\n",
    "\n",
    "plot_feature_importances_cancer(dtree)"
   ]
  },
  {
   "cell_type": "markdown",
   "id": "cf700f99",
   "metadata": {},
   "source": [
    "# Precision Recall Curve\n",
    "We can observe that threshold zero and best threshold.\n",
    "\n",
    "It could seen that the curve suggests to decrease the recall value and maintaining the same precision.\n",
    "\n",
    "When we compute it by changing the threshold from default to 0.377 as suggested by the precision recall curve , we achieve a precision value of 0.85 and a recall value of 0.46 . Which is a more desirable model."
   ]
  },
  {
   "cell_type": "code",
   "execution_count": null,
   "id": "1fee731e",
   "metadata": {},
   "outputs": [],
   "source": [
    "from sklearn.metrics import precision_recall_curve\n",
    "from sklearn.svm import SVC\n",
    "from sklearn.datasets import load_breast_cancer\n",
    "from sklearn.preprocessing import MinMaxScaler\n",
    "import matplotlib.pyplot as plt\n",
    "\n",
    "svc = SVC(kernel = 'rbf', C = 0.1, gamma = 10, random_state = 0)\n",
    "svc.fit(X_train, y_train)"
   ]
  },
  {
   "cell_type": "code",
   "execution_count": null,
   "id": "ce802a4c",
   "metadata": {},
   "outputs": [],
   "source": [
    "%matplotlib inline\n",
    "\n",
    "plt.subplots(figsize = (10,5))\n",
    "precision, recall, thresholds = precision_recall_curve(y_train, svc.decision_function(X_train))\n",
    "\n",
    "close_zero = np.argmin(np.abs(thresholds))\n",
    "\n",
    "plt.plot(precision[close_zero], recall[close_zero], 'o', markersize=10,\n",
    "         label=\"threshold zero\", fillstyle=\"none\", c='k', mew=2)\n",
    "\n",
    "plt.plot(precision[19], recall[19], 'o', markersize=10,\n",
    "         label=\"best threshold\", fillstyle=\"none\", c='r', mew=2)\n",
    "\n",
    "plt.plot(precision, recall, label=\"precision recall curve\")\n",
    "plt.xlabel(\"Precision\")\n",
    "plt.ylabel(\"Recall\")\n",
    "plt.legend(loc=\"best\")\n",
    "plt.grid()"
   ]
  },
  {
   "cell_type": "code",
   "execution_count": null,
   "id": "d508ddb7",
   "metadata": {},
   "outputs": [],
   "source": [
    "from sklearn.metrics import precision_score, recall_score\n",
    "\n",
    "y_predict = np.where(svc.decision_function(X_test) >= 0, 1, 0)\n",
    "print('Before the post processing: ')\n",
    "print('Precision: ', precision_score(y_test, y_predict))\n",
    "print('Recall: ', recall_score(y_test, y_predict))"
   ]
  },
  {
   "cell_type": "code",
   "execution_count": null,
   "id": "f2d4e5c2",
   "metadata": {},
   "outputs": [],
   "source": [
    "np.argmin(np.abs(precision - 0.95))"
   ]
  },
  {
   "cell_type": "code",
   "execution_count": null,
   "id": "fb0e4a8e",
   "metadata": {},
   "outputs": [],
   "source": [
    "from sklearn.metrics import precision_score, recall_score\n",
    "\n",
    "y_predict = np.where(svc.decision_function(X_test) >= thresholds[20], 1, 0)\n",
    "print('After the post processing: ')\n",
    "print('Precision: ', precision_score(y_test, y_predict))\n",
    "print('Recall: ', recall_score(y_test, y_predict))"
   ]
  },
  {
   "cell_type": "markdown",
   "id": "4e8a87fd",
   "metadata": {},
   "source": [
    "# roc_auc_score\n",
    "We can observe in this plot that SVC and Random Forest provide similar f1 score values , which means both models explain the variance in Y in similar manner.\n",
    "\n",
    "But as we know tham Random forest algorithm is more cost intensive so we proceed our analysis with SVC. As SVC can give us the comparable level of accuracy as Random Forest."
   ]
  },
  {
   "cell_type": "code",
   "execution_count": null,
   "id": "6e62370f",
   "metadata": {},
   "outputs": [],
   "source": [
    "%matplotlib inline\n",
    "\n",
    "from sklearn.ensemble import RandomForestClassifier\n",
    "from sklearn.metrics import f1_score\n",
    "\n",
    "rf = RandomForestClassifier(n_estimators=100, random_state=0, max_features=2)\n",
    "rf.fit(X_train, y_train)\n",
    "\n",
    "# RandomForestClassifier has predict_proba, but not decision_function\n",
    "precision_rf, recall_rf, thresholds_rf = precision_recall_curve(y_test, rf.predict_proba(X_test)[:, 1])\n",
    "\n",
    "plt.subplots(figsize = (20,5))\n",
    "plt.plot(precision, recall, label=\"svc\")\n",
    "\n",
    "plt.plot(precision[close_zero], recall[close_zero], 'o', markersize=10,\n",
    "         label=\"threshold zero svc\", fillstyle=\"none\", c='k', mew=2)\n",
    "\n",
    "plt.plot(precision_rf, recall_rf, label=\"random forest\")\n",
    "\n",
    "close_default_rf = np.argmin(np.abs(thresholds_rf - 0.5))\n",
    "plt.plot(precision_rf[close_default_rf], recall_rf[close_default_rf], '^', c='k',\n",
    "         markersize=10, label=\"threshold 0.5 rf\", fillstyle=\"none\", mew=2)\n",
    "plt.xlabel(\"Precision\")\n",
    "plt.ylabel(\"Recall\")\n",
    "plt.legend(loc=\"best\")\n",
    "plt.grid()"
   ]
  },
  {
   "cell_type": "code",
   "execution_count": null,
   "id": "d1efded8",
   "metadata": {},
   "outputs": [],
   "source": [
    "print(\"f1_score of random forest: {:.3f}\".format(f1_score(y_test, rf.predict(X_test))))\n",
    "\n",
    "print(\"f1_score of svc: {:.3f}\".format(f1_score(y_test, svc.predict(X_test))))"
   ]
  },
  {
   "cell_type": "code",
   "execution_count": null,
   "id": "4d2c81f1",
   "metadata": {},
   "outputs": [],
   "source": [
    "%matplotlib inline \n",
    "\n",
    "from sklearn.metrics import roc_curve\n",
    "fpr, tpr, thresholds = roc_curve(y_test, svc.decision_function(X_test))\n",
    "\n",
    "plt.subplots(figsize = (20,5))\n",
    "plt.plot(fpr, tpr, label=\"ROC Curve\")\n",
    "plt.xlabel(\"FPR\")\n",
    "plt.ylabel(\"TPR (recall)\")\n",
    "# find threshold closest to zero\n",
    "close_zero = np.argmin(np.abs(thresholds))\n",
    "plt.plot(fpr[close_zero], tpr[close_zero], 'o', markersize=10,\n",
    "         label=\"threshold zero\", fillstyle=\"none\", c='k', mew=2)\n",
    "plt.legend(loc=4)\n",
    "plt.grid()"
   ]
  },
  {
   "cell_type": "code",
   "execution_count": null,
   "id": "a1541966",
   "metadata": {},
   "outputs": [],
   "source": [
    "%matplotlib inline\n",
    "\n",
    "from sklearn.metrics import roc_auc_score\n",
    "\n",
    "\n",
    "plt.subplots(figsize = (10,10))\n",
    "\n",
    "for gamma in [1, 0.5, 0.1, 0.01]:\n",
    "    svc = SVC(gamma=gamma).fit(X_train, y_train)\n",
    "    accuracy = svc.score(X_test, y_test)\n",
    "    auc = roc_auc_score(y_test, svc.decision_function(X_test))\n",
    "    fpr, tpr, _ = roc_curve(y_test , svc.decision_function(X_test))\n",
    "    print(\"gamma = {:.2f}  accuracy = {:.2f}  AUC = {:.2f}\".format(\n",
    "        gamma, accuracy, auc))\n",
    "    plt.plot(fpr, tpr, label=\"gamma={:.3f}\".format(gamma))\n",
    "plt.xlabel(\"FPR\")\n",
    "plt.ylabel(\"TPR\")\n",
    "plt.xlim(-0.01, 1)\n",
    "plt.ylim(0, 1.02)\n",
    "plt.legend(loc=\"best\")"
   ]
  },
  {
   "cell_type": "markdown",
   "id": "d109f57d",
   "metadata": {},
   "source": [
    "# Grid Search\n",
    "We could observe that Naive search has a Best score of 0.73 and value of C = 1 and gamma = 0.1.\n",
    "\n",
    "When we further proceed using validation technique, it has a Best Score of 0.92 and value of C = 100 and gamma = 10.\n",
    "\n",
    "Then on working with Cross Validation , using cv = 5 , we arrive at a Best Score of 0.92 and value of C = 100 and gamma = 10."
   ]
  },
  {
   "cell_type": "markdown",
   "id": "1a8c0aeb",
   "metadata": {},
   "source": [
    "# Naive"
   ]
  },
  {
   "cell_type": "code",
   "execution_count": null,
   "id": "ca9c3b3a",
   "metadata": {},
   "outputs": [],
   "source": [
    "from sklearn.svm import SVC\n",
    "from sklearn.model_selection import train_test_split\n",
    "from sklearn.preprocessing import MinMaxScaler\n",
    "\n",
    "print(\"Size of training set: {}   size of test set: {}\".format(X_train.shape[0], X_test.shape[0]))\n",
    "\n",
    "best_score = 0\n",
    "\n",
    "for gamma in [0.001, 0.01, 0.1, 1, 10, 100]:\n",
    "    for C in [0.001, 0.01, 0.1, 1, 10, 100]:\n",
    "        # for each combination of parameters, train an SVC\n",
    "        svm = SVC(gamma=gamma, C=C)\n",
    "        svm.fit(X_train, y_train)\n",
    "        # evaluate the SVC on the test set\n",
    "        score = svm.score(X_test, y_test)\n",
    "        # if we got a better score, store the score and parameters\n",
    "        if score > best_score:\n",
    "            best_score = score\n",
    "            best_parameters = {'C': C, 'gamma': gamma}\n",
    "\n",
    "print(\"Best score: {:.2f}\".format(best_score))\n",
    "print(\"Best parameters: {}\".format(best_parameters))"
   ]
  },
  {
   "cell_type": "code",
   "execution_count": null,
   "id": "2acad6a9",
   "metadata": {},
   "outputs": [],
   "source": [
    "from sklearn.svm import SVC\n",
    "\n",
    "# split data into train+validation set and test set\n",
    "X_trainval_orig, X_test_orig, y_trainval, y_test = train_test_split(X, y, random_state=0)\n",
    "\n",
    "# split train+validation set into training and validation sets\n",
    "X_train_orig, X_valid_orig, y_train, y_valid = train_test_split(X_trainval_orig, y_trainval, random_state=1)\n",
    "\n",
    "scaler = MinMaxScaler()\n",
    "X_train = scaler.fit_transform(X_train_orig)\n",
    "X_trainval = scaler.transform(X_trainval_orig)\n",
    "X_valid = scaler.transform(X_valid_orig)\n",
    "X_test = scaler.transform(X_test_orig)\n",
    "\n",
    "print(\"Size of training set: {}   size of validation set: {}   size of test set:\"\n",
    "      \" {}\\n\".format(X_train.shape[0], X_valid.shape[0], X_test.shape[0]))\n",
    "\n",
    "best_score = 0\n",
    "\n",
    "for gamma in [0.001, 0.01, 0.1, 1, 10, 100]:\n",
    "    for C in [0.001, 0.01, 0.1, 1, 10, 100]:\n",
    "        # for each combination of parameters, train an SVC\n",
    "        svm = SVC(gamma=gamma, C=C)\n",
    "        svm.fit(X_train, y_train)\n",
    "        # evaluate the SVC on the validation set\n",
    "        score = svm.score(X_valid, y_valid)\n",
    "        # if we got a better score, store the score and parameters\n",
    "        if score > best_score:\n",
    "            best_score = score\n",
    "            best_parameters = {'C': C, 'gamma': gamma}\n",
    "\n",
    "# rebuild a model on the combined training and validation set,\n",
    "# and evaluate it on the test set\n",
    "svm = SVC(**best_parameters)\n",
    "svm.fit(X_trainval, y_trainval)\n",
    "test_score = svm.score(X_test, y_test)\n",
    "print(\"Best score on validation set: {:.2f}\".format(best_score))\n",
    "print(\"Best parameters: \", best_parameters)\n",
    "print(\"Test set score with best parameters: {:.2f}\".format(test_score))"
   ]
  },
  {
   "cell_type": "markdown",
   "id": "b8953c4f",
   "metadata": {},
   "source": [
    "# Grid Search with Cross Validation"
   ]
  },
  {
   "cell_type": "code",
   "execution_count": null,
   "id": "3086d924",
   "metadata": {},
   "outputs": [],
   "source": [
    "import numpy as np\n",
    "from sklearn.model_selection import cross_val_score\n",
    "\n",
    "scaler = MinMaxScaler()\n",
    "X_trainval = scaler.fit_transform(X_trainval_orig)\n",
    "X_test = scaler.transform(X_test_orig)\n",
    "\n",
    "for gamma in [0.001, 0.01, 0.1, 1, 10, 100]:\n",
    "    for C in [0.001, 0.01, 0.1, 1, 10, 100]:\n",
    "        # for each combination of parameters,\n",
    "        # train an SVC\n",
    "        svm = SVC(random_state= 0,gamma=gamma, C=C)\n",
    "        # perform cross-validation\n",
    "        scores = cross_val_score(svm, X_trainval, y_trainval, cv=5)\n",
    "        # compute mean cross-validation accuracy\n",
    "        score = np.mean(scores)\n",
    "        # if we got a better score, store the score and parameters\n",
    "        if score > best_score:\n",
    "            best_score = score\n",
    "            best_parameters = {'C': C, 'gamma': gamma}\n",
    "            \n",
    "# rebuild a model on the combined training and validation set\n",
    "svm = SVC(**best_parameters)\n",
    "svm.fit(X_trainval, y_trainval)\n",
    "print(\"Best score on validation set: {:.2f}\".format(best_score))\n",
    "print(\"Best parameters: \", best_parameters)\n",
    "print(\"Test set score with best parameters: {:.2f}\".format(test_score))"
   ]
  },
  {
   "cell_type": "markdown",
   "id": "ef069318",
   "metadata": {},
   "source": [
    "# Recommended Model"
   ]
  },
  {
   "cell_type": "code",
   "execution_count": null,
   "id": "0b4bd0b2",
   "metadata": {},
   "outputs": [],
   "source": [
    "from sklearn.metrics import plot_roc_curve\n",
    "from sklearn.metrics import plot_confusion_matrix\n",
    "svm = SVC(random_state= 0,gamma=10, C=100)\n",
    "svm.fit(X,y)\n",
    "plot_confusion_matrix(svm, X, y)"
   ]
  },
  {
   "cell_type": "markdown",
   "id": "c2498c03",
   "metadata": {},
   "source": [
    "# Summary\n",
    "We can observe that the best model we arrive at is an SVC model with value of hyperparameters to be C = 100 and gamma = 10. This model was able to provide a validation score of 0.95 and test score of 0.92. Showing that the model is predicting very well for unseen values."
   ]
  }
 ],
 "metadata": {
  "kernelspec": {
   "display_name": "Python 3",
   "language": "python",
   "name": "python3"
  },
  "language_info": {
   "codemirror_mode": {
    "name": "ipython",
    "version": 3
   },
   "file_extension": ".py",
   "mimetype": "text/x-python",
   "name": "python",
   "nbconvert_exporter": "python",
   "pygments_lexer": "ipython3",
   "version": "3.8.8"
  }
 },
 "nbformat": 4,
 "nbformat_minor": 5
}
